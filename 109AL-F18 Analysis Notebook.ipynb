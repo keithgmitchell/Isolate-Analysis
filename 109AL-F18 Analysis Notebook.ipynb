{
 "cells": [
  {
   "cell_type": "markdown",
   "metadata": {},
   "source": [
    "# 109AL-F18 Analysis Notebook"
   ]
  },
  {
   "cell_type": "markdown",
   "metadata": {},
   "source": [
    "### ***Authors***: Keith Mitchell/Chris Dao\n",
    "#### Some helpful links are shown below regarding Jupyter Notebooks and what it is. Jupyter is a great platform for visualizing and actively working with data. We have put together a notebook that is meant to work based on your isolate spreadsheet being uploaded. "
   ]
  },
  {
   "cell_type": "markdown",
   "metadata": {},
   "source": [
    "Class outline:\n",
    "\n",
    "* A quick installation check of [ipython](https://ipython.org/install.html) and [jupyter notebook](https://jupyter.readthedocs.io/en/latest/install.html)\n",
    "* An overview of the IPython project from [the official website](http://ipython.org), and [jupyter](https://jupyter.org)\n",
    "* Super basic intro to the notebook: typing code.\n",
    "* [Notebook Basics](examples/Notebook/Notebook%20Basics.ipynb)\n",
    "* [IPython - beyond plain python](examples/IPython%20Kernel/Beyond%20Plain%20Python.ipynb)\n",
    "* [Markdown Cells](examples/Notebook/Working%20With%20Markdown%20Cells.ipynb)\n",
    "* [Rich Display System](examples/IPython%20Kernel/Rich%20Output.ipynb)\n",
    "* [Custom Display logic](examples/IPython%20Kernel/Custom%20Display%20Logic.ipynb)\n",
    "* [Customizing IPython - a condensed version](exercises/Customization/Condensed.ipynb)\n",
    "* [Running a Secure Public Notebook Server](examples/Notebook/Running%20the%20Notebook%20Server.ipynb#Securing-the-notebook-server)\n",
    "* [How Jupyter/IPython works](examples/Notebook/Multiple%20Languages%2C%20Frontends.ipynb) to run code in different languages."
   ]
  },
  {
   "cell_type": "markdown",
   "metadata": {},
   "source": [
    "# Initial Setup\n",
    "+ Install libraries still needed\n",
    "    + OS: library for working with operating system where python is running\n",
    "+ Import libraries\n",
    "    + **Pandas**: library for working with dataframes (csv, tsv, excel, etc)\n",
    "    + **Seaborn**: library for visualizing data (especially those in Pandas format)\n",
    "    + **Scipy Stats**: library for statistical functions, here is a link to the functions \n",
    "        + https://docs.scipy.org/doc/scipy/reference/stats.html\n",
    "+ Clean current excel imported csv, main thing here is we are collapsing the header rows to one columns\n",
    "+ **IMPORTANT**: just check out what is printed before the next cell (see `print (new_header)`) this will be the data we are working with.\n",
    "   "
   ]
  },
  {
   "cell_type": "markdown",
   "metadata": {},
   "source": [
    "### First step paste the name of your file here in \"\" quotes. "
   ]
  },
  {
   "cell_type": "code",
   "execution_count": 1,
   "metadata": {
    "collapsed": true
   },
   "outputs": [],
   "source": [
    "file_name = \"109AL-F18_IsolateSpreadsheet.csv\""
   ]
  },
  {
   "cell_type": "code",
   "execution_count": 2,
   "metadata": {},
   "outputs": [
    {
     "name": "stdout",
     "output_type": "stream",
     "text": [
      "['Isolate ID', 'Field', 'Isolate Status', 'Date of Last Streak', 'Isolate Purity', 'Number of Streaks Performed', 'Media Type', nan, 'Colony Morphology', 'Cellular Morphology', 'Size (um)', 'Motility', 'Gram Stain', 'Submitted for Sequencing?', 'Cryogenic Information', 'Catalase  Trial 1', 'Catalase  Trial 2', 'Catalase  Trial 3', 'Catalase  Overall', 'Mannitol Fermentation Trial 1', 'Mannitol Fermentation Trial 2', 'Mannitol Fermentation Trial 3', 'Mannitol Fermentation Overall', 'Yellow Pigment Trial 1', 'Yellow Pigment Trial 2', 'Yellow Pigment Trial 3', 'Yellow Pigment Overall', 'Spore Forming Trial 1', 'Spore Forming Trial 2', 'Spore Forming Trial 3', 'Spore Forming Overall', 'Catalase Trial 1', 'Catalase Trial 2', 'Catalase Trial 3', 'Catalase Overall', 'Glucose Fermentation Trial 1', 'Glucose Fermentation Trial 2', 'Glucose Fermentation Trial 3', 'Glucose Fermentation Overall', 'Oxidase Test Trial 1', 'Oxidase Test Trial 2', 'Oxidase Test Trial 3', 'Oxidase Test Overall', 'Glucose Fermentation Trial 1', 'Glucose Fermentation Trial 2', 'Glucose Fermentation Trial 3', 'Glucose Fermentation Overall', 'Cellulase Production (radius in mm) Trial 1', 'Cellulase Production (radius in mm) Trial 2', 'Cellulase Production (radius in mm) Trial 3', 'Cellulase Production (radius in mm) Average', 'Control Production (radius in mm) Trial 1', 'Control Production (radius in mm) Trial 2 ', 'Control Production (radius in mm) Trial 3', 'Control Production (radius in mm) Average', 'Xylanase Production (radius in mm) Trial 1', 'Xylanase Production (radius in mm) Trial 2', 'Xylanase Production (radius in mm) Trial 3', 'Xylanase Production (radius in mm) Average', 'Grows on N2-BAP Trial 1', 'Grows on N2-BAP Trial 2', 'Grows on N2-BAP Trial 3', 'Grows on N2-BAP Overall', 'Grows on DF min. media Trial 1', 'Grows on DF min. media Trial 2', 'Grows on DF min. media Trial 3', 'Grows on DF min. media Overall', 'Grows on JMV media Trial 1', 'Grows on JMV media Trial 2', 'Grows on JMV media Trial 3', 'Grows on JMV media Overall', 'Grows on NF-b media Trial 1', 'Grows on NF-b media Trial 2', 'Grows on NF-b media Trial 3', 'Grows on NF-b media Overall', 'PCR nifH gene', 'Siderophore Production (radius in mm) Trial 1', 'Siderophore Production (radius in mm) Trial 2', 'Siderophore Production (radius in mm) Trial 3', 'Siderophore Production (radius in mm) Average', 'Phosphate Solubilization (radius in mm) Trial 1', 'Phosphate Solubilization (radius in mm) Trial 2', 'Phosphate Solubilization (radius in mm) Trial 3', 'Phosphate Solubilization (radius in mm) Average', 'Gram Positive Trial 1', 'Gram Positive Trial 2', 'Gram Positive Trial 3', 'Gram Positive Average', 'Gram Negative Trial 1', 'Gram Negative Trial 2', 'Gram Negative Trial 3', 'Gram Negative Average', 'E15 Trial 1', 'E15 Trial 2', 'E15 Trial 3', 'E15 Average', 'CXM30 Trial 1', 'CXM30 Trial 2', 'CXM30 Trial 3', 'CXM30 Average', 'RA5 Trial 1', 'RA5 Trial 2', 'RA5 Trial 3', 'RA5 Average', 'SXT Trial 1', 'SXT Trial 2', 'SXT Trial 3', 'SXT Average', 'TE30 Trial 1', 'TE30 Trial 2', 'TE30 Trial 3', 'TE30 Average', 'Daptomycin Trial 1', 'Daptomycin Trial 2', 'Daptomycin Trial 3', 'Daptomycin Average']\n"
     ]
    }
   ],
   "source": [
    "# install libraries still needed.\n",
    "import os\n",
    "os.system('pip install seaborn')\n",
    "\n",
    "%matplotlib inline\n",
    "\n",
    "\n",
    "# import libraries of needed\n",
    "import seaborn as sns\n",
    "import pandas as pd\n",
    "from scipy import stats\n",
    "import matplotlib.pyplot as plt\n",
    "data = pd.read_csv(file_name, encoding=\"latin1\")\n",
    "\n",
    "# clean the first few rows, and make a new header row\n",
    "new_header = data.iloc[1] #grab the first row for the header\n",
    "data = data[2:] #take the data less the header row\n",
    "data.columns = new_header #set the header row as the df header\n",
    "\n",
    "new_header = []\n",
    "for row, header in zip(data.iloc[0], data.columns):\n",
    "    if header and str(header) !='nan' and str(header) != 'NaN':\n",
    "        recent_header=header\n",
    "    if row and str(row) !='nan' and str(row) != 'NaN':\n",
    "        new_header += [str(recent_header) + ' ' + str(row)]\n",
    "    else:\n",
    "        new_header += [header]  \n",
    "\n",
    "data = data[1:] #take the data less the header row\n",
    "data.columns = new_header #set the header row as the df header  \n",
    "data = data.apply(pd.to_numeric, errors = \"ignore\") #convert numeric columns to float type\n",
    "\n",
    "\n",
    "# and finally lets print the data we will be working with\n",
    "print (new_header)    "
   ]
  },
  {
   "cell_type": "code",
   "execution_count": 3,
   "metadata": {
    "scrolled": true
   },
   "outputs": [
    {
     "data": {
      "text/html": [
       "<div>\n",
       "<style>\n",
       "    .dataframe thead tr:only-child th {\n",
       "        text-align: right;\n",
       "    }\n",
       "\n",
       "    .dataframe thead th {\n",
       "        text-align: left;\n",
       "    }\n",
       "\n",
       "    .dataframe tbody tr th {\n",
       "        vertical-align: top;\n",
       "    }\n",
       "</style>\n",
       "<table border=\"1\" class=\"dataframe\">\n",
       "  <thead>\n",
       "    <tr style=\"text-align: right;\">\n",
       "      <th></th>\n",
       "      <th>Isolate ID</th>\n",
       "      <th>Field</th>\n",
       "      <th>Isolate Status</th>\n",
       "      <th>Date of Last Streak</th>\n",
       "      <th>Isolate Purity</th>\n",
       "      <th>Number of Streaks Performed</th>\n",
       "      <th>Media Type</th>\n",
       "      <th>nan</th>\n",
       "      <th>Colony Morphology</th>\n",
       "      <th>Cellular Morphology</th>\n",
       "      <th>...</th>\n",
       "      <th>SXT Trial 3</th>\n",
       "      <th>SXT Average</th>\n",
       "      <th>TE30 Trial 1</th>\n",
       "      <th>TE30 Trial 2</th>\n",
       "      <th>TE30 Trial 3</th>\n",
       "      <th>TE30 Average</th>\n",
       "      <th>Daptomycin Trial 1</th>\n",
       "      <th>Daptomycin Trial 2</th>\n",
       "      <th>Daptomycin Trial 3</th>\n",
       "      <th>Daptomycin Average</th>\n",
       "    </tr>\n",
       "  </thead>\n",
       "  <tbody>\n",
       "    <tr>\n",
       "      <th>3</th>\n",
       "      <td>F18UCLA1091AGA30M01</td>\n",
       "      <td>11</td>\n",
       "      <td>Active</td>\n",
       "      <td>10/15/2018</td>\n",
       "      <td>Pure</td>\n",
       "      <td>1</td>\n",
       "      <td>RDM</td>\n",
       "      <td>RDM</td>\n",
       "      <td>Circular, convex</td>\n",
       "      <td>NaN</td>\n",
       "      <td>...</td>\n",
       "      <td>NaN</td>\n",
       "      <td>NaN</td>\n",
       "      <td>NaN</td>\n",
       "      <td>NaN</td>\n",
       "      <td>NaN</td>\n",
       "      <td>NaN</td>\n",
       "      <td>NaN</td>\n",
       "      <td>NaN</td>\n",
       "      <td>NaN</td>\n",
       "      <td>NaN</td>\n",
       "    </tr>\n",
       "    <tr>\n",
       "      <th>4</th>\n",
       "      <td>F18UCLA1091AGA30M02</td>\n",
       "      <td>11</td>\n",
       "      <td>Active</td>\n",
       "      <td>10/15/2018</td>\n",
       "      <td>Pure</td>\n",
       "      <td>1</td>\n",
       "      <td>RDM</td>\n",
       "      <td>RDM</td>\n",
       "      <td>Circular, raised, entire, smooth, translucent,...</td>\n",
       "      <td>NaN</td>\n",
       "      <td>...</td>\n",
       "      <td>NaN</td>\n",
       "      <td>NaN</td>\n",
       "      <td>NaN</td>\n",
       "      <td>NaN</td>\n",
       "      <td>NaN</td>\n",
       "      <td>NaN</td>\n",
       "      <td>NaN</td>\n",
       "      <td>NaN</td>\n",
       "      <td>NaN</td>\n",
       "      <td>NaN</td>\n",
       "    </tr>\n",
       "    <tr>\n",
       "      <th>5</th>\n",
       "      <td>F18UCLA1091AGA30M03</td>\n",
       "      <td>11</td>\n",
       "      <td>Active</td>\n",
       "      <td>10/15/2018</td>\n",
       "      <td>Pure</td>\n",
       "      <td>1</td>\n",
       "      <td>RDM</td>\n",
       "      <td>RDM</td>\n",
       "      <td>Circular, raised, entire, smooth, translucent,...</td>\n",
       "      <td>NaN</td>\n",
       "      <td>...</td>\n",
       "      <td>NaN</td>\n",
       "      <td>NaN</td>\n",
       "      <td>NaN</td>\n",
       "      <td>NaN</td>\n",
       "      <td>NaN</td>\n",
       "      <td>NaN</td>\n",
       "      <td>NaN</td>\n",
       "      <td>NaN</td>\n",
       "      <td>NaN</td>\n",
       "      <td>NaN</td>\n",
       "    </tr>\n",
       "    <tr>\n",
       "      <th>6</th>\n",
       "      <td>F18UCLA1091AGA30M04</td>\n",
       "      <td>11</td>\n",
       "      <td>Active</td>\n",
       "      <td>10/15/2018</td>\n",
       "      <td>Pure</td>\n",
       "      <td>1</td>\n",
       "      <td>RDM</td>\n",
       "      <td>RDM</td>\n",
       "      <td>circular, flat, entire, dull, white, opaque</td>\n",
       "      <td>NaN</td>\n",
       "      <td>...</td>\n",
       "      <td>NaN</td>\n",
       "      <td>NaN</td>\n",
       "      <td>NaN</td>\n",
       "      <td>NaN</td>\n",
       "      <td>NaN</td>\n",
       "      <td>NaN</td>\n",
       "      <td>NaN</td>\n",
       "      <td>NaN</td>\n",
       "      <td>NaN</td>\n",
       "      <td>NaN</td>\n",
       "    </tr>\n",
       "    <tr>\n",
       "      <th>7</th>\n",
       "      <td>F18UCLA1091AGA30M05</td>\n",
       "      <td>11</td>\n",
       "      <td>Active</td>\n",
       "      <td>10/15/2018</td>\n",
       "      <td>Pure</td>\n",
       "      <td>1</td>\n",
       "      <td>RDM</td>\n",
       "      <td>RDM</td>\n",
       "      <td>Circular, entire</td>\n",
       "      <td>NaN</td>\n",
       "      <td>...</td>\n",
       "      <td>NaN</td>\n",
       "      <td>NaN</td>\n",
       "      <td>NaN</td>\n",
       "      <td>NaN</td>\n",
       "      <td>NaN</td>\n",
       "      <td>NaN</td>\n",
       "      <td>NaN</td>\n",
       "      <td>NaN</td>\n",
       "      <td>NaN</td>\n",
       "      <td>NaN</td>\n",
       "    </tr>\n",
       "  </tbody>\n",
       "</table>\n",
       "<p>5 rows × 116 columns</p>\n",
       "</div>"
      ],
      "text/plain": [
       "            Isolate ID  Field Isolate Status Date of Last Streak  \\\n",
       "3  F18UCLA1091AGA30M01     11         Active          10/15/2018   \n",
       "4  F18UCLA1091AGA30M02     11         Active          10/15/2018   \n",
       "5  F18UCLA1091AGA30M03     11         Active          10/15/2018   \n",
       "6  F18UCLA1091AGA30M04     11         Active          10/15/2018   \n",
       "7  F18UCLA1091AGA30M05     11         Active          10/15/2018   \n",
       "\n",
       "  Isolate Purity  Number of Streaks Performed Media Type  NaN  \\\n",
       "3           Pure                            1        RDM  RDM   \n",
       "4           Pure                            1        RDM  RDM   \n",
       "5           Pure                            1        RDM  RDM   \n",
       "6           Pure                            1        RDM  RDM   \n",
       "7           Pure                            1        RDM  RDM   \n",
       "\n",
       "                                   Colony Morphology  Cellular Morphology  \\\n",
       "3                                   Circular, convex                  NaN   \n",
       "4  Circular, raised, entire, smooth, translucent,...                  NaN   \n",
       "5  Circular, raised, entire, smooth, translucent,...                  NaN   \n",
       "6        circular, flat, entire, dull, white, opaque                  NaN   \n",
       "7                                   Circular, entire                  NaN   \n",
       "\n",
       "          ...          SXT Trial 3  SXT Average TE30 Trial 1  TE30 Trial 2  \\\n",
       "3         ...                  NaN          NaN          NaN           NaN   \n",
       "4         ...                  NaN          NaN          NaN           NaN   \n",
       "5         ...                  NaN          NaN          NaN           NaN   \n",
       "6         ...                  NaN          NaN          NaN           NaN   \n",
       "7         ...                  NaN          NaN          NaN           NaN   \n",
       "\n",
       "   TE30 Trial 3  TE30 Average  Daptomycin Trial 1  Daptomycin Trial 2  \\\n",
       "3           NaN           NaN                 NaN                 NaN   \n",
       "4           NaN           NaN                 NaN                 NaN   \n",
       "5           NaN           NaN                 NaN                 NaN   \n",
       "6           NaN           NaN                 NaN                 NaN   \n",
       "7           NaN           NaN                 NaN                 NaN   \n",
       "\n",
       "   Daptomycin Trial 3  Daptomycin Average  \n",
       "3                 NaN                 NaN  \n",
       "4                 NaN                 NaN  \n",
       "5                 NaN                 NaN  \n",
       "6                 NaN                 NaN  \n",
       "7                 NaN                 NaN  \n",
       "\n",
       "[5 rows x 116 columns]"
      ]
     },
     "execution_count": 3,
     "metadata": {},
     "output_type": "execute_result"
    }
   ],
   "source": [
    "data.head()"
   ]
  },
  {
   "cell_type": "code",
   "execution_count": 4,
   "metadata": {
    "collapsed": true
   },
   "outputs": [],
   "source": [
    "def my_star(p_value):\n",
    "    if p_value <= 0.001:\n",
    "        return \"***\"\n",
    "    elif p_value <= 0.01:\n",
    "        return \"**\"\n",
    "    elif p_value <= 0.05:\n",
    "        return \"*\"\n",
    "    else:\n",
    "        return \"None\"\n",
    "    \n",
    "def plotStars(struct, values, p_value):\n",
    "    x1, x2 = 0, 1   # columns (first column: 0, see plt.xticks())\n",
    "    y, h, col = struct[values].max() + 1, .5, 'k'\n",
    "    plt.plot([x1, x1, x2, x2], [y, y+h, y+h, y], lw=1.5, c=col)\n",
    "    plt.text((x1+x2)*.5, y+h, my_star(p_value.pvalue), ha='center', va='bottom', color=col)\n",
    "    plt.ylim(0,struct[values].max() + 4)"
   ]
  },
  {
   "cell_type": "markdown",
   "metadata": {},
   "source": [
    "## Sample Purity Thus Far and by Sample Distribution"
   ]
  },
  {
   "cell_type": "code",
   "execution_count": 5,
   "metadata": {},
   "outputs": [
    {
     "data": {
      "text/html": [
       "<div>\n",
       "<style>\n",
       "    .dataframe thead tr:only-child th {\n",
       "        text-align: right;\n",
       "    }\n",
       "\n",
       "    .dataframe thead th {\n",
       "        text-align: left;\n",
       "    }\n",
       "\n",
       "    .dataframe tbody tr th {\n",
       "        vertical-align: top;\n",
       "    }\n",
       "</style>\n",
       "<table border=\"1\" class=\"dataframe\">\n",
       "  <thead>\n",
       "    <tr style=\"text-align: right;\">\n",
       "      <th></th>\n",
       "      <th>Isolate Purity</th>\n",
       "      <th># Isolates</th>\n",
       "    </tr>\n",
       "  </thead>\n",
       "  <tbody>\n",
       "    <tr>\n",
       "      <th>0</th>\n",
       "      <td>Not pure</td>\n",
       "      <td>18</td>\n",
       "    </tr>\n",
       "    <tr>\n",
       "      <th>1</th>\n",
       "      <td>Pure</td>\n",
       "      <td>22</td>\n",
       "    </tr>\n",
       "  </tbody>\n",
       "</table>\n",
       "</div>"
      ],
      "text/plain": [
       "  Isolate Purity  # Isolates\n",
       "0       Not pure          18\n",
       "1           Pure          22"
      ]
     },
     "execution_count": 5,
     "metadata": {},
     "output_type": "execute_result"
    }
   ],
   "source": [
    "purity = data.groupby(['Isolate Purity']).size().reset_index(name='# Isolates')\n",
    "purity.head()"
   ]
  },
  {
   "cell_type": "code",
   "execution_count": 6,
   "metadata": {},
   "outputs": [
    {
     "data": {
      "image/png": "[encoded data removed]",
      "text/plain": [
       "<matplotlib.figure.Figure at 0x1c2b1993240>"
      ]
     },
     "metadata": {},
     "output_type": "display_data"
    }
   ],
   "source": [
    "sns.set_context('talk')\n",
    "ax = sns.barplot(x=\"Isolate Purity\", y=\"# Isolates\", data=purity)"
   ]
  },
  {
   "cell_type": "code",
   "execution_count": 7,
   "metadata": {},
   "outputs": [
    {
     "data": {
      "text/html": [
       "<div>\n",
       "<style>\n",
       "    .dataframe thead tr:only-child th {\n",
       "        text-align: right;\n",
       "    }\n",
       "\n",
       "    .dataframe thead th {\n",
       "        text-align: left;\n",
       "    }\n",
       "\n",
       "    .dataframe tbody tr th {\n",
       "        vertical-align: top;\n",
       "    }\n",
       "</style>\n",
       "<table border=\"1\" class=\"dataframe\">\n",
       "  <thead>\n",
       "    <tr style=\"text-align: right;\">\n",
       "      <th></th>\n",
       "      <th>Isolate Purity</th>\n",
       "      <th>Field</th>\n",
       "      <th># Isolates</th>\n",
       "    </tr>\n",
       "  </thead>\n",
       "  <tbody>\n",
       "    <tr>\n",
       "      <th>0</th>\n",
       "      <td>Not pure</td>\n",
       "      <td>10</td>\n",
       "      <td>10</td>\n",
       "    </tr>\n",
       "    <tr>\n",
       "      <th>1</th>\n",
       "      <td>Not pure</td>\n",
       "      <td>11</td>\n",
       "      <td>8</td>\n",
       "    </tr>\n",
       "    <tr>\n",
       "      <th>2</th>\n",
       "      <td>Pure</td>\n",
       "      <td>10</td>\n",
       "      <td>10</td>\n",
       "    </tr>\n",
       "    <tr>\n",
       "      <th>3</th>\n",
       "      <td>Pure</td>\n",
       "      <td>11</td>\n",
       "      <td>12</td>\n",
       "    </tr>\n",
       "  </tbody>\n",
       "</table>\n",
       "</div>"
      ],
      "text/plain": [
       "  Isolate Purity  Field  # Isolates\n",
       "0       Not pure     10          10\n",
       "1       Not pure     11           8\n",
       "2           Pure     10          10\n",
       "3           Pure     11          12"
      ]
     },
     "execution_count": 7,
     "metadata": {},
     "output_type": "execute_result"
    }
   ],
   "source": [
    "purity_field = data.groupby(['Isolate Purity','Field']).size().reset_index(name='# Isolates')\n",
    "purity_field.head()"
   ]
  },
  {
   "cell_type": "code",
   "execution_count": 8,
   "metadata": {},
   "outputs": [
    {
     "data": {
      "text/plain": [
       "<matplotlib.axes._subplots.AxesSubplot at 0x1c2b16be5c0>"
      ]
     },
     "execution_count": 8,
     "metadata": {},
     "output_type": "execute_result"
    },
    {
     "data": {
      "image/png": "[encoded data removed]",
      "text/plain": [
       "<matplotlib.figure.Figure at 0x1c2b1993668>"
      ]
     },
     "metadata": {},
     "output_type": "display_data"
    }
   ],
   "source": [
    "ax = sns.barplot(x=\"Isolate Purity\", y=\"# Isolates\", hue='Field', data=purity_field)\n",
    "ax\n",
    "#plt.legend(bbox_to_anchor=(1.05, 1), loc=2, borderaxespad=0.)"
   ]
  },
  {
   "cell_type": "markdown",
   "metadata": {},
   "source": [
    "## Gram Stains by Sample Distribution"
   ]
  },
  {
   "cell_type": "code",
   "execution_count": 9,
   "metadata": {},
   "outputs": [
    {
     "data": {
      "text/html": [
       "<div>\n",
       "<style>\n",
       "    .dataframe thead tr:only-child th {\n",
       "        text-align: right;\n",
       "    }\n",
       "\n",
       "    .dataframe thead th {\n",
       "        text-align: left;\n",
       "    }\n",
       "\n",
       "    .dataframe tbody tr th {\n",
       "        vertical-align: top;\n",
       "    }\n",
       "</style>\n",
       "<table border=\"1\" class=\"dataframe\">\n",
       "  <thead>\n",
       "    <tr style=\"text-align: right;\">\n",
       "      <th></th>\n",
       "      <th>Field</th>\n",
       "      <th>Gram Stain</th>\n",
       "      <th>Isolates</th>\n",
       "    </tr>\n",
       "  </thead>\n",
       "  <tbody>\n",
       "    <tr>\n",
       "      <th>0</th>\n",
       "      <td>10</td>\n",
       "      <td>+</td>\n",
       "      <td>11</td>\n",
       "    </tr>\n",
       "    <tr>\n",
       "      <th>1</th>\n",
       "      <td>10</td>\n",
       "      <td>-</td>\n",
       "      <td>9</td>\n",
       "    </tr>\n",
       "    <tr>\n",
       "      <th>2</th>\n",
       "      <td>11</td>\n",
       "      <td>+</td>\n",
       "      <td>12</td>\n",
       "    </tr>\n",
       "    <tr>\n",
       "      <th>3</th>\n",
       "      <td>11</td>\n",
       "      <td>-</td>\n",
       "      <td>7</td>\n",
       "    </tr>\n",
       "  </tbody>\n",
       "</table>\n",
       "</div>"
      ],
      "text/plain": [
       "   Field Gram Stain  Isolates\n",
       "0     10          +        11\n",
       "1     10          -         9\n",
       "2     11          +        12\n",
       "3     11          -         7"
      ]
     },
     "execution_count": 9,
     "metadata": {},
     "output_type": "execute_result"
    }
   ],
   "source": [
    "gram_stain = data.groupby(['Field', 'Gram Stain']).size().reset_index(name='Isolates')\n",
    "gram_stain.head()\n"
   ]
  },
  {
   "cell_type": "code",
   "execution_count": 10,
   "metadata": {},
   "outputs": [
    {
     "data": {
      "text/plain": [
       "<matplotlib.legend.Legend at 0x1c2b16e4908>"
      ]
     },
     "execution_count": 10,
     "metadata": {},
     "output_type": "execute_result"
    },
    {
     "data": {
      "image/png": "[encoded data removed]",
      "text/plain": [
       "<matplotlib.figure.Figure at 0x1c2b16e46a0>"
      ]
     },
     "metadata": {},
     "output_type": "display_data"
    }
   ],
   "source": [
    "sns.set_context('talk')\n",
    "ax = sns.barplot(x=\"Gram Stain\", y=\"Isolates\", hue='Field', data=gram_stain)\n",
    "plt.legend(bbox_to_anchor=(1.05, 1), loc=2, borderaxespad=0.)"
   ]
  },
  {
   "cell_type": "code",
   "execution_count": 11,
   "metadata": {},
   "outputs": [
    {
     "data": {
      "text/plain": [
       "(<matplotlib.figure.Figure at 0x1c2b168dd68>,\n",
       " OrderedDict([(('10', '+'),\n",
       "               (0.0, 0.0, 0.49751243781094534, 0.49833887043189368)),\n",
       "              (('10', '-'),\n",
       "               (0.0,\n",
       "                0.50166112956810627,\n",
       "                0.49751243781094534,\n",
       "                0.49833887043189368)),\n",
       "              (('11', '+'),\n",
       "               (0.5024875621890548,\n",
       "                0.0,\n",
       "                0.49751243781094534,\n",
       "                0.49833887043189368)),\n",
       "              (('11', '-'),\n",
       "               (0.5024875621890548,\n",
       "                0.50166112956810627,\n",
       "                0.49751243781094534,\n",
       "                0.49833887043189368))]))"
      ]
     },
     "execution_count": 11,
     "metadata": {},
     "output_type": "execute_result"
    },
    {
     "data": {
      "image/png": "[encoded data removed]",
      "text/plain": [
       "<matplotlib.figure.Figure at 0x1c2b168dd68>"
      ]
     },
     "metadata": {},
     "output_type": "display_data"
    }
   ],
   "source": [
    "#from statsmodels.graphics.mosaicplot import mosaic\n",
    "#mosaic(gram_stain, ['Field', 'Gram Stain'])"
   ]
  },
  {
   "cell_type": "markdown",
   "metadata": {},
   "source": [
    "### TYPES OF DATA:\n",
    "The type of variable you have dictates the types of statistical tests you would run. There are two types of variables:\n",
    "\n",
    "***Numeric***: The variable can be expressed as a number (ie, Temperature, Elevation, pH)\n",
    "\n",
    "***Categorical***: The variable cannot be expressed as a number, but is instead a qualitative category (ie, Gender, season)\n",
    "\n",
    "Statistical tests are run to compare two or more variables. In an experiment, researchers manipulate the ***independent variable*** to see if there is a change in the ***dependent variable***, which is the variable measured in the experiment. "
   ]
  },
  {
   "cell_type": "markdown",
   "metadata": {},
   "source": [
    "### STATISTICAL TEST 1: CHI SQUARED TEST\n",
    "\n",
    "If both the independent and the dependent variable are categorical, a **chi-squared** test can be used. When both variables are categorical, the *frequencies* of the variables can be compared by constructing a *contingency* table. The chi-squared test is then run on the contingency table. \n",
    "\n",
    "For example, consider the following sample purity contingency table constructed by counting the number of isolates in Field 10 and 11 that were Pure or Not Pure:"
   ]
  },
  {
   "cell_type": "code",
   "execution_count": 12,
   "metadata": {},
   "outputs": [
    {
     "data": {
      "text/html": [
       "<div>\n",
       "<style>\n",
       "    .dataframe thead tr:only-child th {\n",
       "        text-align: right;\n",
       "    }\n",
       "\n",
       "    .dataframe thead th {\n",
       "        text-align: left;\n",
       "    }\n",
       "\n",
       "    .dataframe tbody tr th {\n",
       "        vertical-align: top;\n",
       "    }\n",
       "</style>\n",
       "<table border=\"1\" class=\"dataframe\">\n",
       "  <thead>\n",
       "    <tr style=\"text-align: right;\">\n",
       "      <th>Gram Stain</th>\n",
       "      <th>+</th>\n",
       "      <th>-</th>\n",
       "    </tr>\n",
       "    <tr>\n",
       "      <th>Field</th>\n",
       "      <th></th>\n",
       "      <th></th>\n",
       "    </tr>\n",
       "  </thead>\n",
       "  <tbody>\n",
       "    <tr>\n",
       "      <th>10</th>\n",
       "      <td>11</td>\n",
       "      <td>9</td>\n",
       "    </tr>\n",
       "    <tr>\n",
       "      <th>11</th>\n",
       "      <td>12</td>\n",
       "      <td>7</td>\n",
       "    </tr>\n",
       "  </tbody>\n",
       "</table>\n",
       "</div>"
      ],
      "text/plain": [
       "Gram Stain   +  -\n",
       "Field            \n",
       "10          11  9\n",
       "11          12  7"
      ]
     },
     "execution_count": 12,
     "metadata": {},
     "output_type": "execute_result"
    }
   ],
   "source": [
    "gram_stain_crosstab = pd.crosstab(data[\"Field\"], data[\"Gram Stain\"])\n",
    "gram_stain_crosstab"
   ]
  },
  {
   "cell_type": "markdown",
   "metadata": {},
   "source": [
    "The null hypothesis of the chi-squared test is that the two variables *purity* and *field number* are *independent* from each other. In other words, if you know the identity of one variable, say, *purity*, you gain no additional information about the other variable. The alternative hypothesis is that the two variables are related to each other, so that information about one variable can help you predict the value of the other variable.\n",
    "\n",
    "The assumptions of the chi-squared test are as follows:\n",
    "- Simple random sampling\n",
    "- Sufficiently large sample size (so that the central limit theorem holds and the sampling distribution is normal)\n",
    "- Observations are independent of one another\n",
    "\n",
    "The **odds ratio** is a measure of the **effect size** of this comparison. It is good practice to report both the p-value and the corresponding effect size of statistical comparisons. \n",
    "\n",
    "**Fisher's Exact Test** works similarly to the chi-squared test but is accurate even with small sample sizes, so it is recommended when comparing two categorical variables when working with a small sample size. "
   ]
  },
  {
   "cell_type": "markdown",
   "metadata": {},
   "source": [
    "### **STATISTICAL TEST 2: T-TEST**\n",
    "\n",
    "The t-test can used when the independent variable is categorical but the dependent variable is numeric. A t-test is used when there are one or two possible values for the independent variable, and a generalization of the t-test, called **ANOVA** is used when there are three or more possible values for the independent variable. \n",
    "\n",
    "A t-test can be used to determine whether the means of two samples are statistically significantly different from each other. There are three types of t-tests:\n",
    "\n",
    "**One-sample t-test**: Test the null hypothesis that the sample mean is equal to some mean determined by the researcher. For example, a researcher could measure the heights of 100 UCLA undergraduates and use the one-sample t-test to test whether or not the mean is statistically significantly different than 68 inches.\n",
    "\n",
    "**Two-sample (independent) t-test**: Test the null hypothesis that the means of two samples are equal to each other. For example, a researcher could measure the heights of 100 UCLA undergraduates and 100 USC undergraduates, compute the means of the two samples, and then use the two-sample t-test to determine if the heights of UCLA and USC undergraduates are different from each other.\n",
    "\n",
    "**Paired t-test**: Also known as the two-sample dependent t-test. The paired t-test is the same as the two-sample t-test, but is used when the entries in the two samples are *dependent*, or matched with one another. For example, a researcher could measure the height of 100 UCLA undergraduates in January, and then the height of the *same* 100 UCLA undergraduates in March, and test whether those heights are different from each other in those two months using a paired t-test.\n",
    "\n",
    "There are multiple measures for the **effect size** of a two-sample comparison, but some of them include reporting the difference between the two means, recording the ratio of the two means, and **Cohen's D**, the difference in means divided by the (pooled) standard deviation of the samples, which can be calculated by the computer. "
   ]
  },
  {
   "cell_type": "markdown",
   "metadata": {},
   "source": [
    "### **QUESTION 1**: Propose a statistical test to tell apart these two samples in regards to the Gram Pos and Gram Neg cells. Why did you choose this test?"
   ]
  },
  {
   "cell_type": "markdown",
   "metadata": {},
   "source": [
    "+ Answer: Fisher's Exact Test. Both gram status and field are categorical (ie, non-numeric) variables, so we can construct a contingency table from the # of isolates that are gram +/- in Field 10/11. Since the sample size is relatively small, we will use Fisher's Exact Test rather than the Chi-squared test"
   ]
  },
  {
   "cell_type": "code",
   "execution_count": 13,
   "metadata": {},
   "outputs": [
    {
     "name": "stdout",
     "output_type": "stream",
     "text": [
      "{'Odds Ratio': 0.71296296296296291, 'P-Value': 0.74752728256621448}\n"
     ]
    }
   ],
   "source": [
    "gram_keys = gram_stain.groupby(['Field']).size().reset_index(name='#')\n",
    "list = gram_keys['Field'].values.tolist()\n",
    "#print (list)\n",
    "p_value = stats.fisher_exact(gram_stain_crosstab)\n",
    "print ({\"Odds Ratio\":p_value[0], \"P-Value\":p_value[1]})"
   ]
  },
  {
   "cell_type": "markdown",
   "metadata": {},
   "source": [
    "### **QUESTION 2**: Propose a statistical test to tell apart these two samples in regards to the Cellulase production. Why did you choose this test?\n",
    "\n",
    "* Answer: Two sample (independent) t-test. The data from the cellulase assay is numeric (because the clearing sizes were measured), and being compared between two samples.  "
   ]
  },
  {
   "cell_type": "markdown",
   "metadata": {},
   "source": [
    "## Functional Assay Sample Analysis"
   ]
  },
  {
   "cell_type": "code",
   "execution_count": 14,
   "metadata": {},
   "outputs": [
    {
     "name": "stdout",
     "output_type": "stream",
     "text": [
      "{'T statistic': -0.73471668709045235, 'P-Value': 0.46702213839513462}\n"
     ]
    }
   ],
   "source": [
    "group1=data[(data['Field'] == list[0])]\n",
    "group2=data[(data['Field'] == list[1])]\n",
    "\n",
    "p_value = stats.ttest_ind(group1[\"Cellulase Production (radius in mm) Average\"].astype(\"float\").values.tolist(),\n",
    "                          group2[\"Cellulase Production (radius in mm) Average\"].astype(\"float\").values.tolist())\n",
    "print({\"T statistic\": p_value.statistic, \"P-Value\": p_value.pvalue})\n"
   ]
  },
  {
   "cell_type": "code",
   "execution_count": 22,
   "metadata": {},
   "outputs": [
    {
     "data": {
      "text/plain": [
       "(0, 12.52)"
      ]
     },
     "execution_count": 22,
     "metadata": {},
     "output_type": "execute_result"
    },
    {
     "data": {
      "image/png": "[encoded data removed]",
      "text/plain": [
       "<matplotlib.figure.Figure at 0x1c2b22c84e0>"
      ]
     },
     "metadata": {},
     "output_type": "display_data"
    }
   ],
   "source": [
    "# Replace this with your own columns\n",
    "ax = sns.boxplot( x = data[\"Field\"], y = data[\"Cellulase Production (radius in mm) Average\"])\n",
    "x_axis_label = \"Field\"\n",
    "y_axis_label = \"Clearing (mm)\"\n",
    "title = \"Cellulase Production of Field 10 and 11\"\n",
    "ax.set(xlabel=x_axis_label, ylabel= y_axis_label, title=title)\n",
    "#\n",
    "\n",
    "\n",
    "x1, x2 = 0, 1   # columns (first column: 0, see plt.xticks())\n",
    "y, h, col = data['Cellulase Production (radius in mm) Average'].max() + 1, .5, 'k'\n",
    "plt.plot([x1, x1, x2, x2], [y, y+h, y+h, y], lw=1.5, c=col)\n",
    "plt.text((x1+x2)*.5, y+h, my_star(p_value.pvalue), ha='center', va='bottom', color=col)\n",
    "plt.ylim(0,data['Cellulase Production (radius in mm) Average'].max() + 4)"
   ]
  },
  {
   "cell_type": "code",
   "execution_count": 16,
   "metadata": {},
   "outputs": [
    {
     "name": "stdout",
     "output_type": "stream",
     "text": [
      "Ttest_indResult(statistic=3.4717494041179853, pvalue=0.025542915356178631)\n"
     ]
    },
    {
     "data": {
      "image/png": "[encoded data removed]",
      "text/plain": [
       "<matplotlib.figure.Figure at 0x1c2b1ccaef0>"
      ]
     },
     "metadata": {},
     "output_type": "display_data"
    }
   ],
   "source": [
    "#### replace the code in here\n",
    "num_trials = 3\n",
    "isolate_name = \"F18UCLA1091AGA30M04\"\n",
    "first_category_name_trial1 = data.columns.get_loc(\"Cellulase Production (radius in mm) Trial 1\")\n",
    "second_category_name_trial1 = data.columns.get_loc(\"Control Production (radius in mm) Trial 1\")\n",
    "first_category_new_name = \"Isolate\"\n",
    "second_category_new_name = \"Control\"\n",
    "x_axis_label = \"\"\n",
    "y_axis_label = \"Clearing (mm)\"\n",
    "title = \"Cellulase Efficency of Isolate 4\"\n",
    "####\n",
    "\n",
    "first_cat = data[data[\"Isolate ID\"] == isolate_name].iloc[:,first_category_name_trial1:first_category_name_trial1+num_trials]\n",
    "second_cat = data[data[\"Isolate ID\"] == isolate_name].iloc[:,second_category_name_trial1:second_category_name_trial1+num_trials]\n",
    "first_cat = first_cat.transpose().reset_index(drop=True)\n",
    "first_cat.columns={\"Values\"}\n",
    "first_cat['Category'] = first_category_new_name\n",
    "\n",
    "second_cat = second_cat.transpose().reset_index(drop=True)\n",
    "second_cat.columns={\"Values\"}\n",
    "second_cat['Category'] = second_category_new_name\n",
    "stru = first_cat.append(second_cat)\n",
    "stru = stru.reset_index(drop=True)\n",
    "stru = stru.astype(object)\n",
    "ax = sns.swarmplot(x= stru[\"Category\"], y=stru[\"Values\"])\n",
    "#stru.get(\"Category\", \"Category\")\n",
    "ax.set(xlabel=x_axis_label, ylabel=y_axis_label, title=title)\n",
    "\n",
    "\n",
    "p_value = stats.ttest_ind(stru[stru[\"Category\"]==\"Isolate\"][\"Values\"].values.tolist(), stru[stru[\"Category\"]==\"Control\"][\"Values\"].values.tolist())\n",
    "print(p_value)\n",
    "\n",
    "plotStars(stru, \"Values\", p_value)"
   ]
  },
  {
   "cell_type": "code",
   "execution_count": 17,
   "metadata": {},
   "outputs": [
    {
     "data": {
      "text/plain": [
       "[Text(0,0.5,'Clearing (mm)'),\n",
       " Text(0.5,0,''),\n",
       " Text(0.5,1,'Cellulase Efficency')]"
      ]
     },
     "execution_count": 17,
     "metadata": {},
     "output_type": "execute_result"
    },
    {
     "data": {
      "image/png": "[encoded data removed]",
      "text/plain": [
       "<matplotlib.figure.Figure at 0x1c2b1f71908>"
      ]
     },
     "metadata": {},
     "output_type": "display_data"
    }
   ],
   "source": [
    "#### replace the code in here\n",
    "num_trials = 3\n",
    "isolate_names = [\"F18UCLA1091AGA30M04\", \"F18UCLA1091AGA30M05\"]\n",
    "first_category_name_trial1 = data.columns.get_loc(\"Cellulase Production (radius in mm) Trial 1\")\n",
    "second_category_name_trial1 = data.columns.get_loc(\"Control Production (radius in mm) Trial 1\")\n",
    "first_category_new_name = \"Isolate\"\n",
    "second_category_new_name = \"Control\"\n",
    "x_axis_label = \"\"\n",
    "y_axis_label = \"Clearing (mm)\"\n",
    "title = \"Cellulase Efficency\"\n",
    "####\n",
    "\n",
    "first_cat = data[data[\"Isolate ID\"].isin(isolate_names)].iloc[:,first_category_name_trial1:first_category_name_trial1+num_trials]\n",
    "first_cat.index = data[data[\"Isolate ID\"].isin(isolate_names)][\"Isolate ID\"]\n",
    "\n",
    "first_cat = first_cat.transpose()\n",
    "first_cat = first_cat.reset_index(drop=True)\n",
    "first_cat = first_cat.stack().to_frame()\n",
    "first_cat = first_cat.reset_index(level=1)\n",
    "first_cat[\"Category\"] = \"Isolate\"\n",
    "first_cat.columns = [\"Isolate ID\", \"Values\", \"Category\"]\n",
    "\n",
    "\n",
    "second_cat = data[data[\"Isolate ID\"].isin(isolate_names)].iloc[:,second_category_name_trial1:second_category_name_trial1+num_trials]\n",
    "second_cat.index = data[data[\"Isolate ID\"].isin(isolate_names)][\"Isolate ID\"]\n",
    "\n",
    "second_cat = second_cat.transpose()\n",
    "second_cat = second_cat.reset_index(drop=True)\n",
    "second_cat = second_cat.stack().to_frame()\n",
    "second_cat = second_cat.reset_index(level=1)\n",
    "second_cat[\"Category\"] = \"Control\"\n",
    "second_cat.columns = [\"Isolate ID\", \"Values\", \"Category\"]\n",
    "\n",
    "cats = first_cat.append(second_cat)\n",
    "cats\n",
    "ax = sns.stripplot(x = \"Isolate ID\", y = \"Values\", hue = \"Category\", data = cats, dodge=True)\n",
    "ax.set(xlabel=x_axis_label, ylabel=y_axis_label, title=title)\n"
   ]
  },
  {
   "cell_type": "code",
   "execution_count": null,
   "metadata": {},
   "outputs": [],
   "source": []
  },
  {
   "cell_type": "code",
   "execution_count": null,
   "metadata": {},
   "outputs": [],
   "source": []
  },
  {
   "cell_type": "code",
   "execution_count": null,
   "metadata": {},
   "outputs": [],
   "source": []
  },
  {
   "cell_type": "code",
   "execution_count": null,
   "metadata": {},
   "outputs": [],
   "source": []
  }
 ],
 "metadata": {
  "kernelspec": {
   "display_name": "Python 3",
   "language": "python",
   "name": "python3"
  },
  "language_info": {
   "codemirror_mode": {
    "name": "ipython",
    "version": 3
   },
   "file_extension": ".py",
   "mimetype": "text/x-python",
   "name": "python",
   "nbconvert_exporter": "python",
   "pygments_lexer": "ipython3",
   "version": "3.6.3"
  }
 },
 "nbformat": 4,
 "nbformat_minor": 1
}
