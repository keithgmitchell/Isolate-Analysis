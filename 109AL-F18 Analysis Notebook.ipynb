{
 "cells": [
  {
   "cell_type": "markdown",
   "metadata": {},
   "source": [
    "# 109AL-F18 Analysis Notebook"
   ]
  },
  {
   "cell_type": "markdown",
   "metadata": {},
   "source": [
    "### ***Authors***: Keith Mitchell/Chris Dao\n",
    "#### Some helpful links are shown below regarding Jupyter Notebooks and what it is. Jupyter is a great platform for visualizing and actively working with data. We have put together a notebook that is meant to work based on your isolate spreadsheet being uploaded. "
   ]
  },
  {
   "cell_type": "markdown",
   "metadata": {},
   "source": [
    "Class outline:\n",
    "\n",
    "* A quick installation check of [ipython](https://ipython.org/install.html) and [jupyter notebook](https://jupyter.readthedocs.io/en/latest/install.html)\n",
    "* An overview of the IPython project from [the official website](http://ipython.org), and [jupyter](https://jupyter.org)\n",
    "* Super basic intro to the notebook: typing code.\n",
    "* [Notebook Basics](examples/Notebook/Notebook%20Basics.ipynb)\n",
    "* [IPython - beyond plain python](examples/IPython%20Kernel/Beyond%20Plain%20Python.ipynb)\n",
    "* [Markdown Cells](examples/Notebook/Working%20With%20Markdown%20Cells.ipynb)\n",
    "* [Rich Display System](examples/IPython%20Kernel/Rich%20Output.ipynb)\n",
    "* [Custom Display logic](examples/IPython%20Kernel/Custom%20Display%20Logic.ipynb)\n",
    "* [Customizing IPython - a condensed version](exercises/Customization/Condensed.ipynb)\n",
    "* [Running a Secure Public Notebook Server](examples/Notebook/Running%20the%20Notebook%20Server.ipynb#Securing-the-notebook-server)\n",
    "* [How Jupyter/IPython works](examples/Notebook/Multiple%20Languages%2C%20Frontends.ipynb) to run code in different languages."
   ]
  },
  {
   "cell_type": "markdown",
   "metadata": {},
   "source": [
    "# Initial Setup\n",
    "+ Install libraries still needed\n",
    "    + OS: library for working with operating system where python is running\n",
    "+ Import libraries\n",
    "    + **Pandas**: library for working with dataframes (csv, tsv, excel, etc)\n",
    "    + **Seaborn**: library for visualizing data (especially those in Pandas format)\n",
    "    + **Scipy Stats**: library for statistical functions, here is a link to the functions \n",
    "        + https://docs.scipy.org/doc/scipy/reference/stats.html\n",
    "+ Clean current excel imported csv, main thing here is we are collapsing the header rows to one columns\n",
    "+ **IMPORTANT**: just check out what is printed before the next cell (see `print (new_header)`) this will be the data we are working with.\n",
    "   "
   ]
  },
  {
   "cell_type": "markdown",
   "metadata": {},
   "source": [
    "### First step paste the name of your file here in \"\" quotes. "
   ]
  },
  {
   "cell_type": "code",
   "execution_count": 422,
   "metadata": {
    "collapsed": true
   },
   "outputs": [],
   "source": [
    "file_name = \"109AL-F18_IsolateSpreadsheet_QS.csv\""
   ]
  },
  {
   "cell_type": "code",
   "execution_count": 423,
   "metadata": {},
   "outputs": [
    {
     "name": "stdout",
     "output_type": "stream",
     "text": [
      "['Isolate ID', 'Isolate Status', 'Field', 'Date of Last Streak', 'Isolate Purity', 'Number of Streaks Performed', 'Media Type', 'Colony Morphology', 'Colony Morphology 2nd streak', 'Cellular Morphology', 'Size (um)', 'Motility', 'Gram Stain', 'Submitted for Sequencing?', 'Cryogenic Information', 'Catalase  Trial 1', 'Catalase  Trial 2', 'Catalase  Trial 3', 'Catalase  Overall', 'Mannitol Fermentation Trial 1', 'Mannitol Fermentation Trial 2', 'Mannitol Fermentation Trial 3', 'Mannitol Fermentation Overall', 'Yellow Pigment Trial 1', 'Yellow Pigment Trial 2', 'Yellow Pigment Trial 3', 'Yellow Pigment Overall', 'Spore Forming Trial 1', 'Spore Forming Trial 2', 'Spore Forming Trial 3', 'Spore Forming Overall', 'Catalase Trial 1', 'Catalase Trial 2', 'Catalase Trial 3', 'Catalase Overall', 'Glucose Fermentation Trial 1', 'Glucose Fermentation Trial 2', 'Glucose Fermentation Trial 3', 'Glucose Fermentation Overall', 'Oxidase Test Trial 1', 'Oxidase Test Trial 2', 'Oxidase Test Trial 3', 'Oxidase Test Overall', 'Glucose Fermentation Trial 1', 'Glucose Fermentation Trial 2', 'Glucose Fermentation Trial 3', 'Glucose Fermentation Overall', nan, 'Cellulase Production (radius in mm) Trial 1', 'Cellulase Production (radius in mm) Trial 2', 'Cellulase Production (radius in mm) Trial 3', 'Cellulase Production (radius in mm) Average', 'Xylanase Production (radius in mm) Trial 1', 'Xylanase Production (radius in mm) Trial 2', 'Xylanase Production (radius in mm) Trial 3', 'Xylanase Production (radius in mm) Average', 'Grows on N2-BAP Trial 1', 'Grows on N2-BAP Trial 2', 'Grows on N2-BAP Trial 3', 'Grows on N2-BAP Overall', 'Grows on DF min. media Trial 1', 'Grows on DF min. media Trial 2', 'Grows on DF min. media Trial 3', 'Grows on DF min. media Overall', 'Grows on JMV media Trial 1', 'Grows on JMV media Trial 2', 'Grows on JMV media Trial 3', 'Grows on JMV media Overall', 'Grows on NF-b media Trial 1', 'Grows on NF-b media Trial 2', 'Grows on NF-b media Trial 3', 'Grows on NF-b media Overall', 'PCR nifH gene', 'Siderophore Production (radius in mm) Trial 1', 'Siderophore Production (radius in mm) Trial 2', 'Siderophore Production (radius in mm) Trial 3', 'Siderophore Production (radius in mm) Average', 'Phosphate Solubilization (radius in mm) Trial 1', 'Phosphate Solubilization (radius in mm) Trial 2', 'Phosphate Solubilization (radius in mm) Trial 3', 'Phosphate Solubilization (radius in mm) Trial Average', 'Phosphate Solubilization (radius in mm) Control for Trial 1', 'Phosphate Solubilization (radius in mm) Control for Trial 2', 'Phosphate Solubilization (radius in mm) Control for Trial 3', 'Phosphate Solubilization (radius in mm) Control Average', 'Phosphate Solubilization (radius in mm) Overall', 'Gram Positive Trial 1', 'Gram Positive Trial 2', 'Gram Positive Trial 3', 'Gram Positive Average', 'Gram Negative Trial 1', 'Gram Negative Trial 2', 'Gram Negative Trial 3', 'Gram Negative Average', 'E15 Trial 1', 'E15 Trial 2', 'E15 Trial 3', 'E15 Average', 'CXM30 Trial 1', 'CXM30 Trial 2', 'CXM30 Trial 3', 'CXM30 Average', 'RA5 Trial 1', 'RA5 Trial 2', 'RA5 Trial 3', 'RA5 Average', 'SXT Trial 1', 'SXT Trial 2', 'SXT Trial 3', 'SXT Average', 'TE30 Trial 1', 'TE30 Trial 2', 'TE30 Trial 3', 'TE30 Average', 'Daptomycin Trial 1', 'Daptomycin Trial 2', 'Daptomycin Trial 3', 'Daptomycin Average']\n"
     ]
    }
   ],
   "source": [
    "# install libraries still needed.\n",
    "import os\n",
    "os.system('pip install seaborn')\n",
    "\n",
    "%matplotlib inline\n",
    "\n",
    "\n",
    "# import libraries of needed\n",
    "import seaborn as sns\n",
    "import pandas as pd\n",
    "from scipy import stats\n",
    "import matplotlib.pyplot as plt\n",
    "data = pd.read_csv(file_name, encoding=\"latin1\")\n",
    "\n",
    "# clean the first few rows, and make a new header row\n",
    "new_header = data.iloc[1] #grab the first row for the header\n",
    "data = data[2:] #take the data less the header row\n",
    "data.columns = new_header #set the header row as the df header\n",
    "\n",
    "new_header = []\n",
    "for row, header in zip(data.iloc[0], data.columns):\n",
    "    if header and str(header) !='nan' and str(header) != 'NaN':\n",
    "        recent_header=header\n",
    "    if row and str(row) !='nan' and str(row) != 'NaN':\n",
    "        new_header += [str(recent_header) + ' ' + str(row)]\n",
    "    else:\n",
    "        new_header += [header]  \n",
    "\n",
    "data = data[1:] #take the data less the header row\n",
    "data.columns = new_header #set the header row as the df header  \n",
    "data = data.apply(pd.to_numeric, errors = \"ignore\") #convert numeric columns to float type\n",
    "\n",
    "\n",
    "# and finally lets print the data we will be working with\n",
    "print (new_header)    "
   ]
  },
  {
   "cell_type": "code",
   "execution_count": 424,
   "metadata": {
    "scrolled": true
   },
   "outputs": [
    {
     "data": {
      "text/html": [
       "<div>\n",
       "<style>\n",
       "    .dataframe thead tr:only-child th {\n",
       "        text-align: right;\n",
       "    }\n",
       "\n",
       "    .dataframe thead th {\n",
       "        text-align: left;\n",
       "    }\n",
       "\n",
       "    .dataframe tbody tr th {\n",
       "        vertical-align: top;\n",
       "    }\n",
       "</style>\n",
       "<table border=\"1\" class=\"dataframe\">\n",
       "  <thead>\n",
       "    <tr style=\"text-align: right;\">\n",
       "      <th></th>\n",
       "      <th>Isolate ID</th>\n",
       "      <th>Isolate Status</th>\n",
       "      <th>Field</th>\n",
       "      <th>Date of Last Streak</th>\n",
       "      <th>Isolate Purity</th>\n",
       "      <th>Number of Streaks Performed</th>\n",
       "      <th>Media Type</th>\n",
       "      <th>Colony Morphology</th>\n",
       "      <th>Colony Morphology 2nd streak</th>\n",
       "      <th>Cellular Morphology</th>\n",
       "      <th>...</th>\n",
       "      <th>SXT Trial 3</th>\n",
       "      <th>SXT Average</th>\n",
       "      <th>TE30 Trial 1</th>\n",
       "      <th>TE30 Trial 2</th>\n",
       "      <th>TE30 Trial 3</th>\n",
       "      <th>TE30 Average</th>\n",
       "      <th>Daptomycin Trial 1</th>\n",
       "      <th>Daptomycin Trial 2</th>\n",
       "      <th>Daptomycin Trial 3</th>\n",
       "      <th>Daptomycin Average</th>\n",
       "    </tr>\n",
       "  </thead>\n",
       "  <tbody>\n",
       "    <tr>\n",
       "      <th>3</th>\n",
       "      <td>F18UCLA1091QS30I1</td>\n",
       "      <td>Active</td>\n",
       "      <td>23w1</td>\n",
       "      <td>11/1/2018</td>\n",
       "      <td>Not pure</td>\n",
       "      <td>5.0</td>\n",
       "      <td>ISP4</td>\n",
       "      <td>Orange-pink</td>\n",
       "      <td>Form:circular, Elevation: umbonate; margin:curled</td>\n",
       "      <td>NaN</td>\n",
       "      <td>...</td>\n",
       "      <td>NaN</td>\n",
       "      <td>NaN</td>\n",
       "      <td>NaN</td>\n",
       "      <td>NaN</td>\n",
       "      <td>NaN</td>\n",
       "      <td>NaN</td>\n",
       "      <td>NaN</td>\n",
       "      <td>NaN</td>\n",
       "      <td>NaN</td>\n",
       "      <td>NaN</td>\n",
       "    </tr>\n",
       "    <tr>\n",
       "      <th>4</th>\n",
       "      <td>F18UCLA1091QS30I2</td>\n",
       "      <td>Active</td>\n",
       "      <td>23w1</td>\n",
       "      <td>11/1/2018</td>\n",
       "      <td>Not pure</td>\n",
       "      <td>5.0</td>\n",
       "      <td>ISP4</td>\n",
       "      <td>Light orange-white</td>\n",
       "      <td>Form: circular, Elevation: umbonate; margin: c...</td>\n",
       "      <td>NaN</td>\n",
       "      <td>...</td>\n",
       "      <td>NaN</td>\n",
       "      <td>NaN</td>\n",
       "      <td>NaN</td>\n",
       "      <td>NaN</td>\n",
       "      <td>NaN</td>\n",
       "      <td>NaN</td>\n",
       "      <td>NaN</td>\n",
       "      <td>NaN</td>\n",
       "      <td>NaN</td>\n",
       "      <td>NaN</td>\n",
       "    </tr>\n",
       "    <tr>\n",
       "      <th>5</th>\n",
       "      <td>F18UCLA1091QS30I3</td>\n",
       "      <td>Active</td>\n",
       "      <td>23w1</td>\n",
       "      <td>10/30/2018</td>\n",
       "      <td>Not pure</td>\n",
       "      <td>4.0</td>\n",
       "      <td>ISP4</td>\n",
       "      <td>Lots of tiny colonies in quadrant 2, largest c...</td>\n",
       "      <td>Form: circular, Elevation: Crateriform; margin...</td>\n",
       "      <td>Bacillus Clustered</td>\n",
       "      <td>...</td>\n",
       "      <td>NaN</td>\n",
       "      <td>NaN</td>\n",
       "      <td>NaN</td>\n",
       "      <td>NaN</td>\n",
       "      <td>NaN</td>\n",
       "      <td>NaN</td>\n",
       "      <td>NaN</td>\n",
       "      <td>NaN</td>\n",
       "      <td>NaN</td>\n",
       "      <td>NaN</td>\n",
       "    </tr>\n",
       "    <tr>\n",
       "      <th>6</th>\n",
       "      <td>F18UCLA1091QS30I4</td>\n",
       "      <td>Active</td>\n",
       "      <td>23w1</td>\n",
       "      <td>11/1/2018</td>\n",
       "      <td>Pure</td>\n",
       "      <td>5.0</td>\n",
       "      <td>ISP4</td>\n",
       "      <td>Lots of tiny colonies in quadrant 2, largest c...</td>\n",
       "      <td>Form: circular, Elevation: convex ; margin: en...</td>\n",
       "      <td>Bacillus</td>\n",
       "      <td>...</td>\n",
       "      <td>NaN</td>\n",
       "      <td>NaN</td>\n",
       "      <td>NaN</td>\n",
       "      <td>NaN</td>\n",
       "      <td>NaN</td>\n",
       "      <td>NaN</td>\n",
       "      <td>NaN</td>\n",
       "      <td>NaN</td>\n",
       "      <td>NaN</td>\n",
       "      <td>NaN</td>\n",
       "    </tr>\n",
       "    <tr>\n",
       "      <th>7</th>\n",
       "      <td>F18UCLA1091QS30I5</td>\n",
       "      <td>Active</td>\n",
       "      <td>23w1</td>\n",
       "      <td>10/30/2018</td>\n",
       "      <td>Not pure</td>\n",
       "      <td>4.0</td>\n",
       "      <td>ISP4</td>\n",
       "      <td>Lots of tiny colonies in quadrant 1, largest c...</td>\n",
       "      <td>Form: circular, Elevation: convex ; margin: en...</td>\n",
       "      <td>Bacillus</td>\n",
       "      <td>...</td>\n",
       "      <td>NaN</td>\n",
       "      <td>NaN</td>\n",
       "      <td>NaN</td>\n",
       "      <td>NaN</td>\n",
       "      <td>NaN</td>\n",
       "      <td>NaN</td>\n",
       "      <td>NaN</td>\n",
       "      <td>NaN</td>\n",
       "      <td>NaN</td>\n",
       "      <td>NaN</td>\n",
       "    </tr>\n",
       "  </tbody>\n",
       "</table>\n",
       "<p>5 rows × 118 columns</p>\n",
       "</div>"
      ],
      "text/plain": [
       "          Isolate ID Isolate Status Field Date of Last Streak Isolate Purity  \\\n",
       "3  F18UCLA1091QS30I1         Active  23w1           11/1/2018       Not pure   \n",
       "4  F18UCLA1091QS30I2         Active  23w1           11/1/2018       Not pure   \n",
       "5  F18UCLA1091QS30I3         Active  23w1          10/30/2018       Not pure   \n",
       "6  F18UCLA1091QS30I4         Active  23w1           11/1/2018           Pure   \n",
       "7  F18UCLA1091QS30I5         Active  23w1          10/30/2018       Not pure   \n",
       "\n",
       "   Number of Streaks Performed Media Type  \\\n",
       "3                          5.0       ISP4   \n",
       "4                          5.0       ISP4   \n",
       "5                          4.0       ISP4   \n",
       "6                          5.0       ISP4   \n",
       "7                          4.0       ISP4   \n",
       "\n",
       "                                   Colony Morphology  \\\n",
       "3                                        Orange-pink   \n",
       "4                                 Light orange-white   \n",
       "5  Lots of tiny colonies in quadrant 2, largest c...   \n",
       "6  Lots of tiny colonies in quadrant 2, largest c...   \n",
       "7  Lots of tiny colonies in quadrant 1, largest c...   \n",
       "\n",
       "                        Colony Morphology 2nd streak Cellular Morphology  \\\n",
       "3  Form:circular, Elevation: umbonate; margin:curled                 NaN   \n",
       "4  Form: circular, Elevation: umbonate; margin: c...                 NaN   \n",
       "5  Form: circular, Elevation: Crateriform; margin...  Bacillus Clustered   \n",
       "6  Form: circular, Elevation: convex ; margin: en...            Bacillus   \n",
       "7  Form: circular, Elevation: convex ; margin: en...            Bacillus   \n",
       "\n",
       "          ...          SXT Trial 3  SXT Average TE30 Trial 1  TE30 Trial 2  \\\n",
       "3         ...                  NaN          NaN          NaN           NaN   \n",
       "4         ...                  NaN          NaN          NaN           NaN   \n",
       "5         ...                  NaN          NaN          NaN           NaN   \n",
       "6         ...                  NaN          NaN          NaN           NaN   \n",
       "7         ...                  NaN          NaN          NaN           NaN   \n",
       "\n",
       "   TE30 Trial 3  TE30 Average  Daptomycin Trial 1  Daptomycin Trial 2  \\\n",
       "3           NaN           NaN                 NaN                 NaN   \n",
       "4           NaN           NaN                 NaN                 NaN   \n",
       "5           NaN           NaN                 NaN                 NaN   \n",
       "6           NaN           NaN                 NaN                 NaN   \n",
       "7           NaN           NaN                 NaN                 NaN   \n",
       "\n",
       "   Daptomycin Trial 3  Daptomycin Average  \n",
       "3                 NaN                 NaN  \n",
       "4                 NaN                 NaN  \n",
       "5                 NaN                 NaN  \n",
       "6                 NaN                 NaN  \n",
       "7                 NaN                 NaN  \n",
       "\n",
       "[5 rows x 118 columns]"
      ]
     },
     "execution_count": 424,
     "metadata": {},
     "output_type": "execute_result"
    }
   ],
   "source": [
    "data.head()"
   ]
  },
  {
   "cell_type": "code",
   "execution_count": 425,
   "metadata": {
    "collapsed": true
   },
   "outputs": [],
   "source": [
    "# This code creates significance stars that we'll use later. For now, just run this cell.\n",
    "def my_star(p_value):\n",
    "    if p_value <= 0.001:\n",
    "        return \"***\"\n",
    "    elif p_value <= 0.01:\n",
    "        return \"**\"\n",
    "    elif p_value <= 0.05:\n",
    "        return \"*\"\n",
    "    else:\n",
    "        return \"None\"\n",
    "    \n",
    "def plotStars(struct, values, p_value):\n",
    "    x1, x2 = 0, 1   # columns (first column: 0, see plt.xticks())\n",
    "    if my_star(p_value) is not \"None\":\n",
    "        y, h, col = struct[values].max() + 1, .5, 'k'\n",
    "        plt.plot([x1, x1, x2, x2], [y, y+h, y+h, y], lw=1.5, c=col)\n",
    "        plt.text((x1+x2)*.5, y+h, my_star(p_value), ha='center', va='bottom', color=col)\n",
    "        plt.ylim(0,struct[values].max() + 4)\n",
    "        \n",
    "def testNan(x):\n",
    "    return x != x"
   ]
  },
  {
   "cell_type": "markdown",
   "metadata": {},
   "source": [
    "If you want to give 'nicknames' for any of the column names, edit the \"alias_dict\" line below. In the example, \"Sample Site\" will now also work as a name for \"Field\", \"Phosphate Solubilization\" will work for \"Phosphate Solubilization (radius in mm) Overall\", etc."
   ]
  },
  {
   "cell_type": "code",
   "execution_count": 426,
   "metadata": {
    "collapsed": true
   },
   "outputs": [],
   "source": [
    "alias_dict = {'Field': 'Sample Site', 'Phosphate Solubilization (radius in mm) Overall': 'Phosphate Solubilization', 'Phosphate Solubilization (radius in mm) Trial Average': 'Isolate Phosphate Solubilization Index', 'Phosphate Solubilization (radius in mm) Control Average': 'Control Phosphate Solubilization Index'}\n",
    "\n",
    "for k in alias_dict:\n",
    "    data[alias_dict[k]] = data[k] "
   ]
  },
  {
   "cell_type": "markdown",
   "metadata": {},
   "source": [
    "# Counting isolates in categories\n",
    "Fill out the first line of the following with the name of a category to summarize, then run the cell. It should be a categorical variable, and appear as one of the columns on the isolate spreadsheet."
   ]
  },
  {
   "cell_type": "code",
   "execution_count": 427,
   "metadata": {},
   "outputs": [
    {
     "data": {
      "image/png": "[encoded data removed]",
      "text/plain": [
       "<matplotlib.figure.Figure at 0x1c2b41ce2e8>"
      ]
     },
     "metadata": {},
     "output_type": "display_data"
    }
   ],
   "source": [
    "category = \"Phosphate Solubilization\"\n",
    "category_summary = data.groupby([category]).size().reset_index(name='# Isolates')\n",
    "category_summary.head()\n",
    "sns.set_context('talk')\n",
    "ax = sns.barplot(x=category, y=\"# Isolates\", data=category_summary)"
   ]
  },
  {
   "cell_type": "markdown",
   "metadata": {},
   "source": [
    "# Comparison of two categorical variables\n",
    "Fill out the following cell with the column names of the two categorical variables you want to compare. \"Independent category\" will be plotted on the x axis, \"Dependent category\" will be shaded different colors. Then run the cells below."
   ]
  },
  {
   "cell_type": "code",
   "execution_count": 428,
   "metadata": {
    "collapsed": true
   },
   "outputs": [],
   "source": [
    "independent_category = \"Field\"\n",
    "dependent_category = \"Phosphate Solubilization\""
   ]
  },
  {
   "cell_type": "code",
   "execution_count": 429,
   "metadata": {},
   "outputs": [
    {
     "data": {
      "text/html": [
       "<div>\n",
       "<style>\n",
       "    .dataframe thead tr:only-child th {\n",
       "        text-align: right;\n",
       "    }\n",
       "\n",
       "    .dataframe thead th {\n",
       "        text-align: left;\n",
       "    }\n",
       "\n",
       "    .dataframe tbody tr th {\n",
       "        vertical-align: top;\n",
       "    }\n",
       "</style>\n",
       "<table border=\"1\" class=\"dataframe\">\n",
       "  <thead>\n",
       "    <tr style=\"text-align: right;\">\n",
       "      <th></th>\n",
       "      <th>Field</th>\n",
       "      <th>Phosphate Solubilization</th>\n",
       "      <th># Isolates</th>\n",
       "    </tr>\n",
       "  </thead>\n",
       "  <tbody>\n",
       "    <tr>\n",
       "      <th>0</th>\n",
       "      <td>23w1</td>\n",
       "      <td>+</td>\n",
       "      <td>10</td>\n",
       "    </tr>\n",
       "    <tr>\n",
       "      <th>1</th>\n",
       "      <td>28d</td>\n",
       "      <td>+</td>\n",
       "      <td>4</td>\n",
       "    </tr>\n",
       "    <tr>\n",
       "      <th>2</th>\n",
       "      <td>28d</td>\n",
       "      <td>-</td>\n",
       "      <td>7</td>\n",
       "    </tr>\n",
       "  </tbody>\n",
       "</table>\n",
       "</div>"
      ],
      "text/plain": [
       "  Field Phosphate Solubilization  # Isolates\n",
       "0  23w1                        +          10\n",
       "1   28d                        +           4\n",
       "2   28d                        -           7"
      ]
     },
     "execution_count": 429,
     "metadata": {},
     "output_type": "execute_result"
    }
   ],
   "source": [
    "categorical_comparison = data.groupby([independent_category,dependent_category]).size().reset_index(name='# Isolates')\n",
    "categorical_comparison.head()"
   ]
  },
  {
   "cell_type": "code",
   "execution_count": 430,
   "metadata": {},
   "outputs": [
    {
     "name": "stdout",
     "output_type": "stream",
     "text": [
      "{'Odds Ratio': inf, 'P-Value': 0.0038699690402476819}\n"
     ]
    }
   ],
   "source": [
    "categorical_comparison_crosstab = pd.crosstab(data[independent_category], data[dependent_category])\n",
    "categorical_comparison_p_value = stats.fisher_exact(categorical_comparison_crosstab)\n",
    "print ({\"Odds Ratio\":categorical_comparison_p_value[0], \"P-Value\":categorical_comparison_p_value[1]})\n"
   ]
  },
  {
   "cell_type": "code",
   "execution_count": 431,
   "metadata": {
    "collapsed": true
   },
   "outputs": [],
   "source": [
    "title = \"Phosphate Solubilization by Field\"\n",
    "y_axis_label = \"# Isolates\"\n",
    "x_axis_label = \"Field\""
   ]
  },
  {
   "cell_type": "code",
   "execution_count": 432,
   "metadata": {},
   "outputs": [
    {
     "data": {
      "image/png": "[encoded data removed]",
      "text/plain": [
       "<matplotlib.figure.Figure at 0x1c2b528eb38>"
      ]
     },
     "metadata": {},
     "output_type": "display_data"
    }
   ],
   "source": [
    "ax = sns.barplot(x=independent_category, y=\"# Isolates\", hue=dependent_category, data=categorical_comparison)\n",
    "ax.set(xlabel=x_axis_label, ylabel= y_axis_label, title=title)\n",
    "plt.legend(bbox_to_anchor=(1.05, 1), loc=2, borderaxespad=0.)\n",
    "plotStars(categorical_comparison, \"# Isolates\", categorical_comparison_p_value[1])"
   ]
  },
  {
   "cell_type": "code",
   "execution_count": 433,
   "metadata": {
    "collapsed": true
   },
   "outputs": [],
   "source": [
    "#from statsmodels.graphics.mosaicplot import mosaic\n",
    "#mosaic(categorical_comparison, [independent_category, dependent_category])"
   ]
  },
  {
   "cell_type": "markdown",
   "metadata": {},
   "source": [
    "# Comparison of numeric data  "
   ]
  },
  {
   "cell_type": "code",
   "execution_count": 434,
   "metadata": {
    "collapsed": true
   },
   "outputs": [],
   "source": [
    "# if you want to remove  zeros (ie, negative trial results), set remove_zeroes to True, otherwise, set it to False\n",
    "\n",
    "independent_category = \"Field\"\n",
    "dependent_category = \"Isolate Phosphate Solubilization Index\"\n",
    "\n",
    "remove_zeroes = True"
   ]
  },
  {
   "cell_type": "code",
   "execution_count": 435,
   "metadata": {
    "collapsed": true
   },
   "outputs": [],
   "source": [
    "list = data[independent_category].unique()\n",
    "\n",
    "# remove NaNs from list by calling testNan() function\n",
    "list = [i for i in list if not testNan(i)]\n",
    "\n",
    "group1=data[(data[independent_category] == list[0])]\n",
    "group2=data[(data[independent_category] == list[1])]\n",
    "\n",
    "group1=group1[dependent_category].astype(\"float\").values.tolist()\n",
    "group2=group2[dependent_category].astype(\"float\").values.tolist()\n",
    "    \n",
    "\n",
    "if remove_zeroes:\n",
    "    group1 = [num for num in group1 if num != 0]\n",
    "    group2 = [num for num in group2 if num != 0]"
   ]
  },
  {
   "cell_type": "code",
   "execution_count": 436,
   "metadata": {},
   "outputs": [
    {
     "name": "stdout",
     "output_type": "stream",
     "text": [
      "{'T statistic': 1.8401016929216605, 'P-Value': 0.084378862954716208}\n"
     ]
    }
   ],
   "source": [
    "numeric_p_value = stats.ttest_ind(group1, group2, nan_policy=\"omit\")\n",
    "\n",
    "print({\"T statistic\": numeric_p_value.statistic, \"P-Value\": numeric_p_value.pvalue})\n"
   ]
  },
  {
   "cell_type": "code",
   "execution_count": 437,
   "metadata": {
    "collapsed": true
   },
   "outputs": [],
   "source": [
    "title = \"Phosphate Solubilization of Field 23 and 28\"\n",
    "x_axis_label = \"Field\"\n",
    "y_axis_label = \"Phosphate Solubilization Index\""
   ]
  },
  {
   "cell_type": "code",
   "execution_count": 438,
   "metadata": {},
   "outputs": [
    {
     "data": {
      "image/png": "[encoded data removed]",
      "text/plain": [
       "<matplotlib.figure.Figure at 0x1c2b565cd68>"
      ]
     },
     "metadata": {},
     "output_type": "display_data"
    }
   ],
   "source": [
    "ax = sns.boxplot( x = data[independent_category], y = data[dependent_category])\n",
    "ax.set(xlabel=x_axis_label, ylabel= y_axis_label, title=title)\n",
    "plotStars(data, dependent_category, numeric_p_value.pvalue)"
   ]
  },
  {
   "cell_type": "markdown",
   "metadata": {},
   "source": [
    "# Single Isolate Analysis"
   ]
  },
  {
   "cell_type": "code",
   "execution_count": 439,
   "metadata": {
    "collapsed": true
   },
   "outputs": [],
   "source": [
    "#### replace the code in here\n",
    "num_trials = 3\n",
    "isolate_name = \"F18UCLA1091QS30I8\"\n",
    "first_category_name_trial1 = data.columns.get_loc(\"Phosphate Solubilization (radius in mm) Trial 1\")\n",
    "second_category_name_trial1 = data.columns.get_loc(\"Phosphate Solubilization (radius in mm) Control for Trial 1\")\n",
    "first_category_new_name = \"Isolate\"\n",
    "second_category_new_name = \"Control\"\n",
    "####\n",
    "\n",
    "if not isolate_name in data[\"Isolate ID\"].values: \n",
    "    print(\"Warning: isolate name not in data\")\n"
   ]
  },
  {
   "cell_type": "code",
   "execution_count": 440,
   "metadata": {},
   "outputs": [
    {
     "name": "stdout",
     "output_type": "stream",
     "text": [
      "Ttest_relResult(statistic=-3.958633252188331, pvalue=0.058289435623937465)\n"
     ]
    }
   ],
   "source": [
    "first_cat = data[data[\"Isolate ID\"] == isolate_name].iloc[:,first_category_name_trial1:first_category_name_trial1+num_trials]\n",
    "second_cat = data[data[\"Isolate ID\"] == isolate_name].iloc[:,second_category_name_trial1:second_category_name_trial1+num_trials]\n",
    "first_cat = first_cat.transpose().reset_index(drop=True)\n",
    "first_cat.columns={\"Values\"}\n",
    "first_cat['Category'] = first_category_new_name\n",
    "\n",
    "second_cat = second_cat.transpose().reset_index(drop=True)\n",
    "second_cat.columns={\"Values\"}\n",
    "second_cat['Category'] = second_category_new_name\n",
    "\n",
    "stru = first_cat.append(second_cat)\n",
    "stru = stru.reset_index(drop=True)\n",
    "stru = stru.astype(object)\n",
    "\n",
    "p_value = stats.ttest_rel(stru[stru[\"Category\"]==\"Isolate\"][\"Values\"].values.tolist(), stru[stru[\"Category\"]==\"Control\"][\"Values\"].values.tolist())\n",
    "print(p_value)\n",
    "\n"
   ]
  },
  {
   "cell_type": "code",
   "execution_count": 441,
   "metadata": {
    "collapsed": true
   },
   "outputs": [],
   "source": [
    "x_axis_label = \"\"\n",
    "y_axis_label = \"Phosphate Solubilization Index\"\n",
    "title = \"Phosphate Solubilization Efficiency of Isolate 4\"\n"
   ]
  },
  {
   "cell_type": "code",
   "execution_count": 443,
   "metadata": {},
   "outputs": [
    {
     "data": {
      "image/png": "[encoded data removed]",
      "text/plain": [
       "<matplotlib.figure.Figure at 0x1c2b3fccb00>"
      ]
     },
     "metadata": {},
     "output_type": "display_data"
    }
   ],
   "source": [
    "ax = sns.stripplot(x= stru[\"Category\"], y=stru[\"Values\"])\n",
    "#stru.get(\"Category\", \"Category\")\n",
    "ax.set(xlabel=x_axis_label, ylabel=y_axis_label, title=title)\n",
    "plotStars(stru, \"Values\", p_value.pvalue)"
   ]
  },
  {
   "cell_type": "markdown",
   "metadata": {
    "collapsed": true
   },
   "source": [
    "Testing stuff... ignore below"
   ]
  },
  {
   "cell_type": "code",
   "execution_count": null,
   "metadata": {},
   "outputs": [],
   "source": [
    "\n",
    "#### replace the code in here\n",
    "num_trials = 3\n",
    "isolate_name = \"F18UCLA1091AGA30M04\"\n",
    "first_category_name_trial1 = data.columns.get_loc(\"Cellulase Production (radius in mm) Trial 1\")\n",
    "second_category_name_trial1 = data.columns.get_loc(\"Control Production (radius in mm) Trial 1\")\n",
    "first_category_new_name = \"Isolate\"\n",
    "second_category_new_name = \"Control\"\n",
    "x_axis_label = \"\"\n",
    "y_axis_label = \"Clearing (mm)\"\n",
    "title = \"Cellulase Efficency of Isolate 4\"\n",
    "####\n",
    "\n",
    "first_cat = data[data[\"Isolate ID\"] == isolate_name].iloc[:,first_category_name_trial1:first_category_name_trial1+num_trials]\n",
    "second_cat = data[data[\"Isolate ID\"] == isolate_name].iloc[:,second_category_name_trial1:second_category_name_trial1+num_trials]\n",
    "first_cat = first_cat.transpose().reset_index(drop=True)\n",
    "first_cat.columns={\"Values\"}\n",
    "first_cat['Category'] = first_category_new_name\n",
    "\n",
    "second_cat = second_cat.transpose().reset_index(drop=True)\n",
    "second_cat.columns={\"Values\"}\n",
    "second_cat['Category'] = second_category_new_name\n",
    "stru = first_cat.append(second_cat)\n",
    "stru = stru.reset_index(drop=True)\n",
    "stru = stru.astype(object)\n",
    "ax = sns.swarmplot(x= stru[\"Category\"], y=stru[\"Values\"])\n",
    "#stru.get(\"Category\", \"Category\")\n",
    "ax.set(xlabel=x_axis_label, ylabel=y_axis_label, title=title)\n",
    "\n",
    "\n",
    "p_value = stats.ttest_ind(stru[stru[\"Category\"]==\"Isolate\"][\"Values\"].values.tolist(), stru[stru[\"Category\"]==\"Control\"][\"Values\"].values.tolist())\n",
    "print(p_value)\n",
    "\n",
    "plotStars(stru, \"Values\", p_value)"
   ]
  },
  {
   "cell_type": "code",
   "execution_count": null,
   "metadata": {
    "collapsed": true
   },
   "outputs": [],
   "source": [
    "#### replace the code in here\n",
    "num_trials = 3\n",
    "isolate_names = [\"F18UCLA1091AGA30M04\", \"F18UCLA1091AGA30M05\"]\n",
    "first_category_name_trial1 = data.columns.get_loc(\"Cellulase Production (radius in mm) Trial 1\")\n",
    "second_category_name_trial1 = data.columns.get_loc(\"Control Production (radius in mm) Trial 1\")\n",
    "first_category_new_name = \"Isolate\"\n",
    "second_category_new_name = \"Control\"\n",
    "x_axis_label = \"\"\n",
    "y_axis_label = \"Clearing (mm)\"\n",
    "title = \"Cellulase Efficency\"\n",
    "####\n",
    "\n",
    "first_cat = data[data[\"Isolate ID\"].isin(isolate_names)].iloc[:,first_category_name_trial1:first_category_name_trial1+num_trials]\n",
    "first_cat.index = data[data[\"Isolate ID\"].isin(isolate_names)][\"Isolate ID\"]\n",
    "\n",
    "first_cat = first_cat.transpose()\n",
    "first_cat = first_cat.reset_index(drop=True)\n",
    "first_cat = first_cat.stack().to_frame()\n",
    "first_cat = first_cat.reset_index(level=1)\n",
    "first_cat[\"Category\"] = \"Isolate\"\n",
    "first_cat.columns = [\"Isolate ID\", \"Values\", \"Category\"]\n",
    "\n",
    "\n",
    "second_cat = data[data[\"Isolate ID\"].isin(isolate_names)].iloc[:,second_category_name_trial1:second_category_name_trial1+num_trials]\n",
    "second_cat.index = data[data[\"Isolate ID\"].isin(isolate_names)][\"Isolate ID\"]\n",
    "\n",
    "second_cat = second_cat.transpose()\n",
    "second_cat = second_cat.reset_index(drop=True)\n",
    "second_cat = second_cat.stack().to_frame()\n",
    "second_cat = second_cat.reset_index(level=1)\n",
    "second_cat[\"Category\"] = \"Control\"\n",
    "second_cat.columns = [\"Isolate ID\", \"Values\", \"Category\"]\n",
    "\n",
    "cats = first_cat.append(second_cat)\n",
    "cats\n",
    "ax = sns.stripplot(x = \"Isolate ID\", y = \"Values\", hue = \"Category\", data = cats, dodge=True)\n",
    "ax.set(xlabel=x_axis_label, ylabel=y_axis_label, title=title)\n"
   ]
  },
  {
   "cell_type": "code",
   "execution_count": null,
   "metadata": {
    "collapsed": true
   },
   "outputs": [],
   "source": []
  },
  {
   "cell_type": "code",
   "execution_count": null,
   "metadata": {
    "collapsed": true
   },
   "outputs": [],
   "source": []
  },
  {
   "cell_type": "code",
   "execution_count": null,
   "metadata": {
    "collapsed": true
   },
   "outputs": [],
   "source": []
  },
  {
   "cell_type": "code",
   "execution_count": null,
   "metadata": {
    "collapsed": true
   },
   "outputs": [],
   "source": []
  }
 ],
 "metadata": {
  "kernelspec": {
   "display_name": "Python 3",
   "language": "python",
   "name": "python3"
  },
  "language_info": {
   "codemirror_mode": {
    "name": "ipython",
    "version": 3
   },
   "file_extension": ".py",
   "mimetype": "text/x-python",
   "name": "python",
   "nbconvert_exporter": "python",
   "pygments_lexer": "ipython3",
   "version": "3.6.3"
  }
 },
 "nbformat": 4,
 "nbformat_minor": 1
}
