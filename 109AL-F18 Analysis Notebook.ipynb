{
 "cells": [
  {
   "cell_type": "markdown",
   "metadata": {},
   "source": [
    "# 109AL-F18 Analysis Notebook"
   ]
  },
  {
   "cell_type": "markdown",
   "metadata": {},
   "source": [
    "### ***Authors***: Keith Mitchell/Chris Dao\n",
    "#### Some helpful links are shown below regarding Jupyter Notebooks and what it is. Jupyter is a great platform for visualizing and actively working with data. We have put together a notebook that is meant to work based on your isolate spreadsheet being uploaded. "
   ]
  },
  {
   "cell_type": "markdown",
   "metadata": {},
   "source": [
    "Class outline:\n",
    "\n",
    "* A quick installation check of [ipython](https://ipython.org/install.html) and [jupyter notebook](https://jupyter.readthedocs.io/en/latest/install.html)\n",
    "* An overview of the IPython project from [the official website](http://ipython.org), and [jupyter](https://jupyter.org)\n",
    "* Super basic intro to the notebook: typing code.\n",
    "* [Notebook Basics](examples/Notebook/Notebook%20Basics.ipynb)\n",
    "* [IPython - beyond plain python](examples/IPython%20Kernel/Beyond%20Plain%20Python.ipynb)\n",
    "* [Markdown Cells](examples/Notebook/Working%20With%20Markdown%20Cells.ipynb)\n",
    "* [Rich Display System](examples/IPython%20Kernel/Rich%20Output.ipynb)\n",
    "* [Custom Display logic](examples/IPython%20Kernel/Custom%20Display%20Logic.ipynb)\n",
    "* [Customizing IPython - a condensed version](exercises/Customization/Condensed.ipynb)\n",
    "* [Running a Secure Public Notebook Server](examples/Notebook/Running%20the%20Notebook%20Server.ipynb#Securing-the-notebook-server)\n",
    "* [How Jupyter/IPython works](examples/Notebook/Multiple%20Languages%2C%20Frontends.ipynb) to run code in different languages."
   ]
  },
  {
   "cell_type": "markdown",
   "metadata": {},
   "source": [
    "# Initial Setup\n",
    "+ Install libraries still needed\n",
    "    + OS: library for working with operating system where python is running\n",
    "+ Import libraries\n",
    "    + **Pandas**: library for working with dataframes (csv, tsv, excel, etc)\n",
    "    + **Seaborn**: library for visualizing data (especially those in Pandas format)\n",
    "    + **Scipy Stats**: library for statistical functions, here is a link to the functions \n",
    "        + https://docs.scipy.org/doc/scipy/reference/stats.html\n",
    "+ Clean current excel imported csv, main thing here is we are collapsing the header rows to one columns\n",
    "+ **IMPORTANT**: just check out what is printed before the next cell (see `print (new_header)`) this will be the data we are working with.\n",
    "   "
   ]
  },
  {
   "cell_type": "markdown",
   "metadata": {},
   "source": [
    "### First step paste the name of your file here in \"\" quotes. "
   ]
  },
  {
   "cell_type": "code",
   "execution_count": 255,
   "metadata": {},
   "outputs": [],
   "source": [
    "file_name = \"109AL-F18_IsolateSpreadsheet (3).csv\""
   ]
  },
  {
   "cell_type": "code",
   "execution_count": 256,
   "metadata": {},
   "outputs": [
    {
     "name": "stdout",
     "output_type": "stream",
     "text": [
      "['Isolate ID', 'Sample', 'Isolate Status', 'Date of Last Streak', 'Isolate Purity', 'Number of Streaks Performed', 'Media Type', nan, 'Colony Morphology', 'Cellular Morphology', 'Size (um)', 'Motility', 'Gram Stain', 'Submitted for Sequencing?', 'Cryogenic Information', 'Catalase  Trial 1', 'Catalase  Trial 2', 'Catalase  Trial 3', 'Catalase  Overall', 'Mannitol Fermentation Trial 1', 'Mannitol Fermentation Trial 2', 'Mannitol Fermentation Trial 3', 'Mannitol Fermentation Overall', 'Yellow Pigment Trial 1', 'Yellow Pigment Trial 2', 'Yellow Pigment Trial 3', 'Yellow Pigment Overall', 'Spore Forming Trial 1', 'Spore Forming Trial 2', 'Spore Forming Trial 3', 'Spore Forming Overall', 'Catalase Trial 1', 'Catalase Trial 2', 'Catalase Trial 3', 'Catalase Overall', 'Glucose Fermentation Trial 1', 'Glucose Fermentation Trial 2', 'Glucose Fermentation Trial 3', 'Glucose Fermentation Overall', 'Oxidase Test Trial 1', 'Oxidase Test Trial 2', 'Oxidase Test Trial 3', 'Oxidase Test Overall', 'Glucose Fermentation Trial 1', 'Glucose Fermentation Trial 2', 'Glucose Fermentation Trial 3', 'Glucose Fermentation Overall', 'Cellulase Production (radius in mm) Trial 1', 'Cellulase Production (radius in mm) Trial 2', 'Cellulase Production (radius in mm) Trial 3', 'Cellulase Production (radius in mm) Average', 'Xylanase Production (radius in mm) Trial 1', 'Xylanase Production (radius in mm) Trial 2', 'Xylanase Production (radius in mm) Trial 3', 'Xylanase Production (radius in mm) Average', 'Grows on N2-BAP Trial 1', 'Grows on N2-BAP Trial 2', 'Grows on N2-BAP Trial 3', 'Grows on N2-BAP Overall', 'Grows on DF min. media Trial 1', 'Grows on DF min. media Trial 2', 'Grows on DF min. media Trial 3', 'Grows on DF min. media Overall', 'Grows on JMV media Trial 1', 'Grows on JMV media Trial 2', 'Grows on JMV media Trial 3', 'Grows on JMV media Overall', 'Grows on NF-b media Trial 1', 'Grows on NF-b media Trial 2', 'Grows on NF-b media Trial 3', 'Grows on NF-b media Overall', 'PCR nifH gene', 'Siderophore Production (radius in mm) Trial 1', 'Siderophore Production (radius in mm) Trial 2', 'Siderophore Production (radius in mm) Trial 3', 'Siderophore Production (radius in mm) Average', 'Phosphate Solubilization (radius in mm) Trial 1', 'Phosphate Solubilization (radius in mm) Trial 2', 'Phosphate Solubilization (radius in mm) Trial 3', 'Phosphate Solubilization (radius in mm) Average', 'Gram Positive Trial 1', 'Gram Positive Trial 2', 'Gram Positive Trial 3', 'Gram Positive Average', 'Gram Negative Trial 1', 'Gram Negative Trial 2', 'Gram Negative Trial 3', 'Gram Negative Average', 'E15 Trial 1', 'E15 Trial 2', 'E15 Trial 3', 'E15 Average', 'CXM30 Trial 1', 'CXM30 Trial 2', 'CXM30 Trial 3', 'CXM30 Average', 'RA5 Trial 1', 'RA5 Trial 2', 'RA5 Trial 3', 'RA5 Average', 'SXT Trial 1', 'SXT Trial 2', 'SXT Trial 3', 'SXT Average', 'TE30 Trial 1', 'TE30 Trial 2', 'TE30 Trial 3', 'TE30 Average', 'Daptomycin Trial 1', 'Daptomycin Trial 2', 'Daptomycin Trial 3', 'Daptomycin Average']\n"
     ]
    }
   ],
   "source": [
    "# install libraries still needed.\n",
    "import os\n",
    "os.system('pip install seaborn==0.9.0')\n",
    "\n",
    "# import libraries of needed\n",
    "import seaborn as sns\n",
    "import pandas as pd\n",
    "from scipy import stats\n",
    "import matplotlib.pyplot as pl\n",
    "data = pd.read_csv(file_name, encoding=\"latin1\")\n",
    "\n",
    "# clean the first few rows, and make a new header row\n",
    "new_header = data.iloc[1] #grab the first row for the header\n",
    "data = data[2:] #take the data less the header row\n",
    "data.columns = new_header #set the header row as the df header\n",
    "\n",
    "new_header = []\n",
    "for row, header in zip(data.iloc[0], data.columns):\n",
    "    if header and str(header) !='nan' and str(header) != 'NaN':\n",
    "        recent_header=header\n",
    "    if row and str(row) !='nan' and str(row) != 'NaN':\n",
    "        new_header += [str(recent_header) + ' ' + str(row)]\n",
    "    else:\n",
    "        new_header += [header]  \n",
    "\n",
    "data = data[1:] #take the data less the header row\n",
    "data.columns = new_header #set the header row as the df header  \n",
    "\n",
    "\n",
    "# and finally lets print the data we will be working with\n",
    "print (new_header)    "
   ]
  },
  {
   "cell_type": "code",
   "execution_count": 257,
   "metadata": {
    "scrolled": true
   },
   "outputs": [
    {
     "data": {
      "text/html": [
       "<div>\n",
       "<style scoped>\n",
       "    .dataframe tbody tr th:only-of-type {\n",
       "        vertical-align: middle;\n",
       "    }\n",
       "\n",
       "    .dataframe tbody tr th {\n",
       "        vertical-align: top;\n",
       "    }\n",
       "\n",
       "    .dataframe thead th {\n",
       "        text-align: right;\n",
       "    }\n",
       "</style>\n",
       "<table border=\"1\" class=\"dataframe\">\n",
       "  <thead>\n",
       "    <tr style=\"text-align: right;\">\n",
       "      <th></th>\n",
       "      <th>Isolate ID</th>\n",
       "      <th>Sample</th>\n",
       "      <th>Isolate Status</th>\n",
       "      <th>Date of Last Streak</th>\n",
       "      <th>Isolate Purity</th>\n",
       "      <th>Number of Streaks Performed</th>\n",
       "      <th>Media Type</th>\n",
       "      <th>nan</th>\n",
       "      <th>Colony Morphology</th>\n",
       "      <th>Cellular Morphology</th>\n",
       "      <th>...</th>\n",
       "      <th>SXT Trial 3</th>\n",
       "      <th>SXT Average</th>\n",
       "      <th>TE30 Trial 1</th>\n",
       "      <th>TE30 Trial 2</th>\n",
       "      <th>TE30 Trial 3</th>\n",
       "      <th>TE30 Average</th>\n",
       "      <th>Daptomycin Trial 1</th>\n",
       "      <th>Daptomycin Trial 2</th>\n",
       "      <th>Daptomycin Trial 3</th>\n",
       "      <th>Daptomycin Average</th>\n",
       "    </tr>\n",
       "  </thead>\n",
       "  <tbody>\n",
       "    <tr>\n",
       "      <th>3</th>\n",
       "      <td>F18UCLA1091AGA30M01</td>\n",
       "      <td>11</td>\n",
       "      <td>Active</td>\n",
       "      <td>10/15/2018</td>\n",
       "      <td>Pure</td>\n",
       "      <td>1</td>\n",
       "      <td>RDM</td>\n",
       "      <td>RDM</td>\n",
       "      <td>Circular, convex</td>\n",
       "      <td>NaN</td>\n",
       "      <td>...</td>\n",
       "      <td>NaN</td>\n",
       "      <td>NaN</td>\n",
       "      <td>NaN</td>\n",
       "      <td>NaN</td>\n",
       "      <td>NaN</td>\n",
       "      <td>NaN</td>\n",
       "      <td>NaN</td>\n",
       "      <td>NaN</td>\n",
       "      <td>NaN</td>\n",
       "      <td>NaN</td>\n",
       "    </tr>\n",
       "    <tr>\n",
       "      <th>4</th>\n",
       "      <td>F18UCLA1091AGA30M02</td>\n",
       "      <td>11</td>\n",
       "      <td>Active</td>\n",
       "      <td>10/15/2018</td>\n",
       "      <td>Pure</td>\n",
       "      <td>1</td>\n",
       "      <td>RDM</td>\n",
       "      <td>RDM</td>\n",
       "      <td>Circular, raised, entire, smooth, translucent,...</td>\n",
       "      <td>NaN</td>\n",
       "      <td>...</td>\n",
       "      <td>NaN</td>\n",
       "      <td>NaN</td>\n",
       "      <td>NaN</td>\n",
       "      <td>NaN</td>\n",
       "      <td>NaN</td>\n",
       "      <td>NaN</td>\n",
       "      <td>NaN</td>\n",
       "      <td>NaN</td>\n",
       "      <td>NaN</td>\n",
       "      <td>NaN</td>\n",
       "    </tr>\n",
       "    <tr>\n",
       "      <th>5</th>\n",
       "      <td>F18UCLA1091AGA30M03</td>\n",
       "      <td>11</td>\n",
       "      <td>Active</td>\n",
       "      <td>10/15/2018</td>\n",
       "      <td>Pure</td>\n",
       "      <td>1</td>\n",
       "      <td>RDM</td>\n",
       "      <td>RDM</td>\n",
       "      <td>Circular, raised, entire, smooth, translucent,...</td>\n",
       "      <td>NaN</td>\n",
       "      <td>...</td>\n",
       "      <td>NaN</td>\n",
       "      <td>NaN</td>\n",
       "      <td>NaN</td>\n",
       "      <td>NaN</td>\n",
       "      <td>NaN</td>\n",
       "      <td>NaN</td>\n",
       "      <td>NaN</td>\n",
       "      <td>NaN</td>\n",
       "      <td>NaN</td>\n",
       "      <td>NaN</td>\n",
       "    </tr>\n",
       "    <tr>\n",
       "      <th>6</th>\n",
       "      <td>F18UCLA1091AGA30M04</td>\n",
       "      <td>11</td>\n",
       "      <td>Active</td>\n",
       "      <td>10/15/2018</td>\n",
       "      <td>Pure</td>\n",
       "      <td>1</td>\n",
       "      <td>RDM</td>\n",
       "      <td>RDM</td>\n",
       "      <td>circular, flat, entire, dull, white, opaque</td>\n",
       "      <td>NaN</td>\n",
       "      <td>...</td>\n",
       "      <td>NaN</td>\n",
       "      <td>NaN</td>\n",
       "      <td>NaN</td>\n",
       "      <td>NaN</td>\n",
       "      <td>NaN</td>\n",
       "      <td>NaN</td>\n",
       "      <td>NaN</td>\n",
       "      <td>NaN</td>\n",
       "      <td>NaN</td>\n",
       "      <td>NaN</td>\n",
       "    </tr>\n",
       "    <tr>\n",
       "      <th>7</th>\n",
       "      <td>F18UCLA1091AGA30M05</td>\n",
       "      <td>11</td>\n",
       "      <td>Active</td>\n",
       "      <td>10/15/2018</td>\n",
       "      <td>Pure</td>\n",
       "      <td>1</td>\n",
       "      <td>RDM</td>\n",
       "      <td>RDM</td>\n",
       "      <td>Circular, entire</td>\n",
       "      <td>NaN</td>\n",
       "      <td>...</td>\n",
       "      <td>NaN</td>\n",
       "      <td>NaN</td>\n",
       "      <td>NaN</td>\n",
       "      <td>NaN</td>\n",
       "      <td>NaN</td>\n",
       "      <td>NaN</td>\n",
       "      <td>NaN</td>\n",
       "      <td>NaN</td>\n",
       "      <td>NaN</td>\n",
       "      <td>NaN</td>\n",
       "    </tr>\n",
       "  </tbody>\n",
       "</table>\n",
       "<p>5 rows × 112 columns</p>\n",
       "</div>"
      ],
      "text/plain": [
       "            Isolate ID Sample Isolate Status Date of Last Streak  \\\n",
       "3  F18UCLA1091AGA30M01     11         Active          10/15/2018   \n",
       "4  F18UCLA1091AGA30M02     11         Active          10/15/2018   \n",
       "5  F18UCLA1091AGA30M03     11         Active          10/15/2018   \n",
       "6  F18UCLA1091AGA30M04     11         Active          10/15/2018   \n",
       "7  F18UCLA1091AGA30M05     11         Active          10/15/2018   \n",
       "\n",
       "  Isolate Purity Number of Streaks Performed Media Type  NaN  \\\n",
       "3           Pure                           1        RDM  RDM   \n",
       "4           Pure                           1        RDM  RDM   \n",
       "5           Pure                           1        RDM  RDM   \n",
       "6           Pure                           1        RDM  RDM   \n",
       "7           Pure                           1        RDM  RDM   \n",
       "\n",
       "                                   Colony Morphology Cellular Morphology  \\\n",
       "3                                   Circular, convex                 NaN   \n",
       "4  Circular, raised, entire, smooth, translucent,...                 NaN   \n",
       "5  Circular, raised, entire, smooth, translucent,...                 NaN   \n",
       "6        circular, flat, entire, dull, white, opaque                 NaN   \n",
       "7                                   Circular, entire                 NaN   \n",
       "\n",
       "         ...         SXT Trial 3 SXT Average TE30 Trial 1 TE30 Trial 2  \\\n",
       "3        ...                 NaN         NaN          NaN          NaN   \n",
       "4        ...                 NaN         NaN          NaN          NaN   \n",
       "5        ...                 NaN         NaN          NaN          NaN   \n",
       "6        ...                 NaN         NaN          NaN          NaN   \n",
       "7        ...                 NaN         NaN          NaN          NaN   \n",
       "\n",
       "  TE30 Trial 3 TE30 Average Daptomycin Trial 1 Daptomycin Trial 2  \\\n",
       "3          NaN          NaN                NaN                NaN   \n",
       "4          NaN          NaN                NaN                NaN   \n",
       "5          NaN          NaN                NaN                NaN   \n",
       "6          NaN          NaN                NaN                NaN   \n",
       "7          NaN          NaN                NaN                NaN   \n",
       "\n",
       "  Daptomycin Trial 3 Daptomycin Average  \n",
       "3                NaN                NaN  \n",
       "4                NaN                NaN  \n",
       "5                NaN                NaN  \n",
       "6                NaN                NaN  \n",
       "7                NaN                NaN  \n",
       "\n",
       "[5 rows x 112 columns]"
      ]
     },
     "execution_count": 257,
     "metadata": {},
     "output_type": "execute_result"
    }
   ],
   "source": [
    "data.head()"
   ]
  },
  {
   "cell_type": "code",
   "execution_count": 258,
   "metadata": {},
   "outputs": [],
   "source": [
    "def my_star(p_value):\n",
    "    if p_value <= 0.001:\n",
    "        return \"***\"\n",
    "    elif p_value <= 0.01:\n",
    "        return \"**\"\n",
    "    elif p_value <= 0.05:\n",
    "        return \"*\"\n",
    "    else:\n",
    "        return \"None\"\n",
    "    \n",
    "def incomplete_question(question):\n",
    "    print (\"Please complete %s with the proposed statistical test that you plan to run.\\n\\\n",
    "    Fucntions to choose from are shown at the following link. https://docs.scipy.org/doc/scipy/reference/stats.html\" %(question))"
   ]
  },
  {
   "cell_type": "markdown",
   "metadata": {},
   "source": [
    "## Sample Purity Thus Far by Sample"
   ]
  },
  {
   "cell_type": "code",
   "execution_count": 259,
   "metadata": {},
   "outputs": [
    {
     "data": {
      "text/html": [
       "<div>\n",
       "<style scoped>\n",
       "    .dataframe tbody tr th:only-of-type {\n",
       "        vertical-align: middle;\n",
       "    }\n",
       "\n",
       "    .dataframe tbody tr th {\n",
       "        vertical-align: top;\n",
       "    }\n",
       "\n",
       "    .dataframe thead th {\n",
       "        text-align: right;\n",
       "    }\n",
       "</style>\n",
       "<table border=\"1\" class=\"dataframe\">\n",
       "  <thead>\n",
       "    <tr style=\"text-align: right;\">\n",
       "      <th></th>\n",
       "      <th>Isolate Purity</th>\n",
       "      <th># Isolates</th>\n",
       "    </tr>\n",
       "  </thead>\n",
       "  <tbody>\n",
       "    <tr>\n",
       "      <th>0</th>\n",
       "      <td>Not pure</td>\n",
       "      <td>18</td>\n",
       "    </tr>\n",
       "    <tr>\n",
       "      <th>1</th>\n",
       "      <td>Pure</td>\n",
       "      <td>22</td>\n",
       "    </tr>\n",
       "  </tbody>\n",
       "</table>\n",
       "</div>"
      ],
      "text/plain": [
       "  Isolate Purity  # Isolates\n",
       "0       Not pure          18\n",
       "1           Pure          22"
      ]
     },
     "execution_count": 259,
     "metadata": {},
     "output_type": "execute_result"
    }
   ],
   "source": [
    "purity = data.groupby(['Isolate Purity']).size().reset_index(name='# Isolates')\n",
    "purity.head()"
   ]
  },
  {
   "cell_type": "code",
   "execution_count": 260,
   "metadata": {},
   "outputs": [
    {
     "data": {
      "image/png": "[encoded data removed]",
      "text/plain": [
       "<Figure size 432x288 with 1 Axes>"
      ]
     },
     "metadata": {
      "needs_background": "light"
     },
     "output_type": "display_data"
    }
   ],
   "source": [
    "sns.set_context('talk')\n",
    "ax = sns.barplot(x=\"Isolate Purity\", y=\"# Isolates\", data=purity)"
   ]
  },
  {
   "cell_type": "code",
   "execution_count": 261,
   "metadata": {},
   "outputs": [
    {
     "data": {
      "text/html": [
       "<div>\n",
       "<style scoped>\n",
       "    .dataframe tbody tr th:only-of-type {\n",
       "        vertical-align: middle;\n",
       "    }\n",
       "\n",
       "    .dataframe tbody tr th {\n",
       "        vertical-align: top;\n",
       "    }\n",
       "\n",
       "    .dataframe thead th {\n",
       "        text-align: right;\n",
       "    }\n",
       "</style>\n",
       "<table border=\"1\" class=\"dataframe\">\n",
       "  <thead>\n",
       "    <tr style=\"text-align: right;\">\n",
       "      <th></th>\n",
       "      <th>Isolate Purity</th>\n",
       "      <th>Sample</th>\n",
       "      <th># Isolates</th>\n",
       "    </tr>\n",
       "  </thead>\n",
       "  <tbody>\n",
       "    <tr>\n",
       "      <th>0</th>\n",
       "      <td>Not pure</td>\n",
       "      <td>10</td>\n",
       "      <td>10</td>\n",
       "    </tr>\n",
       "    <tr>\n",
       "      <th>1</th>\n",
       "      <td>Not pure</td>\n",
       "      <td>11</td>\n",
       "      <td>8</td>\n",
       "    </tr>\n",
       "    <tr>\n",
       "      <th>2</th>\n",
       "      <td>Pure</td>\n",
       "      <td>10</td>\n",
       "      <td>10</td>\n",
       "    </tr>\n",
       "    <tr>\n",
       "      <th>3</th>\n",
       "      <td>Pure</td>\n",
       "      <td>11</td>\n",
       "      <td>12</td>\n",
       "    </tr>\n",
       "  </tbody>\n",
       "</table>\n",
       "</div>"
      ],
      "text/plain": [
       "  Isolate Purity Sample  # Isolates\n",
       "0       Not pure     10          10\n",
       "1       Not pure     11           8\n",
       "2           Pure     10          10\n",
       "3           Pure     11          12"
      ]
     },
     "execution_count": 261,
     "metadata": {},
     "output_type": "execute_result"
    }
   ],
   "source": [
    "purity_field = data.groupby(['Isolate Purity','Sample']).size().reset_index(name='# Isolates')\n",
    "purity_field.head()"
   ]
  },
  {
   "cell_type": "markdown",
   "metadata": {},
   "source": [
    "ax = sns.barplot(x=\"Isolate Purity\", y=\"# Isolates\", hue='Sample', data=purity_field)\n",
    "plt.legend(bbox_to_anchor=(1.05, 1), loc=2, borderaxespad=0.)"
   ]
  },
  {
   "cell_type": "markdown",
   "metadata": {},
   "source": [
    "# Data Analysis Fundamentals Overview"
   ]
  },
  {
   "cell_type": "markdown",
   "metadata": {},
   "source": [
    "### TYPES OF DATA:\n",
    "The type of variable you have dictates the types of statistical tests you would run. There are two types of variables:\n",
    "\n",
    "***Numeric***: The variable can be expressed as a number (ie, Temperature, Elevation, pH)\n",
    "\n",
    "***Categorical***: The variable cannot be expressed as a number, but is instead a qualitative category (ie, Gender, season)\n",
    "\n",
    "Statistical tests are run to compare two or more variables. In an experiment, researchers manipulate the ***independent variable*** to see if there is a change in the ***dependent variable***, which is the variable measured in the experiment. "
   ]
  },
  {
   "cell_type": "markdown",
   "metadata": {},
   "source": [
    "### STATISTICAL TEST 1: CHI SQUARED TEST\n",
    "\n",
    "If both the independent and the dependent variable are categorical, a **chi-squared** test can be used. When both variables are categorical, the *frequencies* of the variables can be compared by constructing a *contingency* table. The chi-squared test is then run on the contingency table. \n",
    "\n",
    "For example, consider the following sample purity contingency table constructed by counting the number of isolates in Field 10 and 11 that were Pure or Not Pure:"
   ]
  },
  {
   "cell_type": "code",
   "execution_count": 262,
   "metadata": {},
   "outputs": [
    {
     "data": {
      "text/html": [
       "<div>\n",
       "<style scoped>\n",
       "    .dataframe tbody tr th:only-of-type {\n",
       "        vertical-align: middle;\n",
       "    }\n",
       "\n",
       "    .dataframe tbody tr th {\n",
       "        vertical-align: top;\n",
       "    }\n",
       "\n",
       "    .dataframe thead th {\n",
       "        text-align: right;\n",
       "    }\n",
       "</style>\n",
       "<table border=\"1\" class=\"dataframe\">\n",
       "  <thead>\n",
       "    <tr style=\"text-align: right;\">\n",
       "      <th></th>\n",
       "      <th>Pure</th>\n",
       "      <th>Not pure</th>\n",
       "    </tr>\n",
       "    <tr>\n",
       "      <th>Field</th>\n",
       "      <th></th>\n",
       "      <th></th>\n",
       "    </tr>\n",
       "  </thead>\n",
       "  <tbody>\n",
       "    <tr>\n",
       "      <th>Field 10</th>\n",
       "      <td>10</td>\n",
       "      <td>3</td>\n",
       "    </tr>\n",
       "    <tr>\n",
       "      <th>Field 11</th>\n",
       "      <td>4</td>\n",
       "      <td>3</td>\n",
       "    </tr>\n",
       "  </tbody>\n",
       "</table>\n",
       "</div>"
      ],
      "text/plain": [
       "          Pure  Not pure\n",
       "Field                   \n",
       "Field 10    10         3\n",
       "Field 11     4         3"
      ]
     },
     "execution_count": 262,
     "metadata": {},
     "output_type": "execute_result"
    }
   ],
   "source": [
    "exampleDataframe = pd.DataFrame({'Field': ['Field 10', 'Field 11'], 'Pure':[10, 4], 'Not pure': [3, 3]})\n",
    "exampleDataframe = exampleDataframe.set_index('Field')\n",
    "exampleDataframe"
   ]
  },
  {
   "cell_type": "markdown",
   "metadata": {},
   "source": [
    "The null hypothesis of the chi-squared test is that the two variables *purity* and *field number* are *independent* from each other. In other words, if you know the identity of one variable, say, *purity*, you gain no additional information about the other variable. The alternative hypothesis is that the two variables are related to each other, so that information about one variable can help you predict the value of the other variable.\n",
    "\n",
    "The assumptions of the chi-squared test are as follows:\n",
    "- Simple random sampling\n",
    "- Sufficiently large sample size (so that the central limit theorem holds and the sampling distribution is normal)\n",
    "- Observations are independent of one another\n",
    "\n",
    "The **odds ratio** is a measure of the **effect size** of this comparison. It is good practice to report both the p-value and the corresponding effect size of a statistical comparison. \n",
    "\n",
    "**Fisher's Exact Test** works similarly to the chi-squared test but is accurate even with small sample sizes, so it is recommended when comparing two categorical variables when working with a small sample size. "
   ]
  },
  {
   "cell_type": "markdown",
   "metadata": {},
   "source": [
    "### **STATISTICAL TEST 2: T-TEST**\n",
    "\n",
    "The t-test can used when the independent variable is categorical but the dependent variable is numeric. A t-test is used when there are one or two possible values for the independent variable, and a generalization of the t-test, called **ANOVA** is used when there are three or more possible values for the independent variable. \n",
    "\n",
    "A t-test can be used to determine whether the means of two samples are statistically significantly different from each other. There are three types of t-tests:\n",
    "\n",
    "**One-sample t-test**: Test the null hypothesis that the sample mean is equal to some mean determined by the researcher. For example, a researcher could measure the heights of 100 UCLA undergraduates and use the one-sample t-test to test whether or not the mean is statistically significantly different than 68 inches.\n",
    "\n",
    "**Two-sample t-test**: Test the null hypothesis that the means of two samples are equal to each other. For example, a researcher could measure the heights of 100 UCLA undergraduates and 100 USC undergraduates, compute the means of the two samples, and then use the two-sample t-test to determine if the heights of UCLA and USC undergraduates are different from each other.\n",
    "\n",
    "**Paired t-test**: The paired t-test is the same as the two-sample t-test, but is used when the entries in the two samples are *dependent*, or matched with one another. For example, a researcher could measure the height of 100 UCLA undergraduates in January, and then the height of the *same* 100 UCLA undergraduates in March, and test whether those heights are different from each other in those two months using a paired t-test.\n",
    "\n",
    "There are multiple measures for the **effect size** of a two-sample comparison, but some of them include reporting the difference between the two means, recording the ratio of the two means, and **Cohen's D**, a value which can be calculated by the computer. "
   ]
  },
  {
   "cell_type": "markdown",
   "metadata": {},
   "source": [
    "## Gram Stains by Sample Distribution"
   ]
  },
  {
   "cell_type": "code",
   "execution_count": 263,
   "metadata": {},
   "outputs": [
    {
     "data": {
      "text/html": [
       "<div>\n",
       "<style scoped>\n",
       "    .dataframe tbody tr th:only-of-type {\n",
       "        vertical-align: middle;\n",
       "    }\n",
       "\n",
       "    .dataframe tbody tr th {\n",
       "        vertical-align: top;\n",
       "    }\n",
       "\n",
       "    .dataframe thead th {\n",
       "        text-align: right;\n",
       "    }\n",
       "</style>\n",
       "<table border=\"1\" class=\"dataframe\">\n",
       "  <thead>\n",
       "    <tr style=\"text-align: right;\">\n",
       "      <th></th>\n",
       "      <th>Sample</th>\n",
       "      <th>Gram Stain</th>\n",
       "      <th>Isolates</th>\n",
       "    </tr>\n",
       "  </thead>\n",
       "  <tbody>\n",
       "    <tr>\n",
       "      <th>0</th>\n",
       "      <td>10</td>\n",
       "      <td>+</td>\n",
       "      <td>11</td>\n",
       "    </tr>\n",
       "    <tr>\n",
       "      <th>1</th>\n",
       "      <td>10</td>\n",
       "      <td>-</td>\n",
       "      <td>9</td>\n",
       "    </tr>\n",
       "    <tr>\n",
       "      <th>2</th>\n",
       "      <td>11</td>\n",
       "      <td>+</td>\n",
       "      <td>12</td>\n",
       "    </tr>\n",
       "    <tr>\n",
       "      <th>3</th>\n",
       "      <td>11</td>\n",
       "      <td>-</td>\n",
       "      <td>7</td>\n",
       "    </tr>\n",
       "  </tbody>\n",
       "</table>\n",
       "</div>"
      ],
      "text/plain": [
       "  Sample Gram Stain  Isolates\n",
       "0     10          +        11\n",
       "1     10          -         9\n",
       "2     11          +        12\n",
       "3     11          -         7"
      ]
     },
     "execution_count": 263,
     "metadata": {},
     "output_type": "execute_result"
    }
   ],
   "source": [
    "gram_stain = data.groupby(['Sample', 'Gram Stain']).size().reset_index(name='Isolates')\n",
    "gram_stain.head()"
   ]
  },
  {
   "cell_type": "code",
   "execution_count": 264,
   "metadata": {
    "scrolled": true
   },
   "outputs": [
    {
     "data": {
      "text/plain": [
       "<matplotlib.legend.Legend at 0x7fae1402f4a8>"
      ]
     },
     "execution_count": 264,
     "metadata": {},
     "output_type": "execute_result"
    },
    {
     "data": {
      "image/png": "[encoded data removed]",
      "text/plain": [
       "<Figure size 432x288 with 1 Axes>"
      ]
     },
     "metadata": {
      "needs_background": "light"
     },
     "output_type": "display_data"
    }
   ],
   "source": [
    "sns.set_context('talk')\n",
    "ax = sns.barplot(x=\"Gram Stain\", y=\"Isolates\", hue='Sample', data=gram_stain)\n",
    "plt.legend(bbox_to_anchor=(1.05, 1), loc=2, borderaxespad=0.)"
   ]
  },
  {
   "cell_type": "markdown",
   "metadata": {},
   "source": [
    "### **QUESTION 1**: Propose a statistical test to tell apart these two samples in regards to the Gram Pos and Gram Neg cells. Why did you choose this test?\n",
    "+ Fill out reasoning here."
   ]
  },
  {
   "cell_type": "code",
   "execution_count": 265,
   "metadata": {},
   "outputs": [],
   "source": [
    "statistical_test_question_1 = \"\""
   ]
  },
  {
   "cell_type": "code",
   "execution_count": 266,
   "metadata": {},
   "outputs": [
    {
     "name": "stdout",
     "output_type": "stream",
     "text": [
      "Please complete Question 1 with the proposed statistical test that you plan to run.\n",
      "    Fucntions to choose from are shown at the following link. https://docs.scipy.org/doc/scipy/reference/stats.html\n"
     ]
    }
   ],
   "source": [
    "if statistical_test_question_1:\n",
    "    sample_keys = gram_stain.groupby(['Sample']).size().reset_index(name='#')\n",
    "    sample_list = sample_keys['Sample'].values.tolist()\n",
    "\n",
    "    p_value = getattr(stats, statistical_test_1)([gram_stain[(gram_stain.Sample==sample_list[0])].Isolates.tolist(),\n",
    "                                gram_stain[(gram_stain.Sample==sample_list[1])].Isolates.tolist()])\n",
    "    print (\"Odds Ratio\", \"          P-Value\")\n",
    "    print (p_value)\n",
    "else:\n",
    "    incomplete_question(\"Question 1\")"
   ]
  },
  {
   "cell_type": "markdown",
   "metadata": {},
   "source": [
    "## Functional Assay Sample Comparison"
   ]
  },
  {
   "cell_type": "markdown",
   "metadata": {},
   "source": [
    "### **QUESTION 2**: Propose a statistical test to tell apart these two samples in regards to the Cellulase production. Why did you choose this test?\n",
    "\n",
    "+ Fill out reasoning here."
   ]
  },
  {
   "cell_type": "code",
   "execution_count": 267,
   "metadata": {},
   "outputs": [],
   "source": [
    "statistical_test_question_2 = \"\""
   ]
  },
  {
   "cell_type": "code",
   "execution_count": 268,
   "metadata": {},
   "outputs": [
    {
     "name": "stdout",
     "output_type": "stream",
     "text": [
      "Please complete Question 2 with the proposed statistical test that you plan to run.\n",
      "    Fucntions to choose from are shown at the following link. https://docs.scipy.org/doc/scipy/reference/stats.html\n"
     ]
    }
   ],
   "source": [
    "if statistical_test_2:\n",
    "    group1=data[(data['Sample'] == sample_list[0])]\n",
    "    group2=data[(data['Sample'] == sample_list[1])]\n",
    "\n",
    "    p_value = getattr(stats, statistical_test_2)([float(x) for x in group1[\"Cellulase Production (radius in mm) Average\"].tolist()],\n",
    "                              [float(x) for x in group2[\"Cellulase Production (radius in mm) Average\"].tolist()])\n",
    "    print(\"T statistic\", \"          P-value\")\n",
    "    print((p_value.statistic, p_value.pvalue))\n",
    "else:\n",
    "    incomplete_question(\"Question 2\")"
   ]
  },
  {
   "cell_type": "code",
   "execution_count": 269,
   "metadata": {},
   "outputs": [
    {
     "name": "stdout",
     "output_type": "stream",
     "text": [
      "Please complete Question 2 with the proposed statistical test that you plan to run.\n",
      "    Fucntions to choose from are shown at the following link. https://docs.scipy.org/doc/scipy/reference/stats.html\n"
     ]
    }
   ],
   "source": [
    "if statistical_test_question_2:\n",
    "    # Setting some figure dimensions\n",
    "    a4_dims = (7.7, 8.27)\n",
    "    fig, ax = pl.subplots(figsize=a4_dims)\n",
    "\n",
    "    # Creating the figure\n",
    "    sns.set_context('talk')\n",
    "    ax = sns.boxplot( x = np.array(data[\"Sample\"]).astype(np.float), y = np.array(data[\"Cellulase Production (radius in mm) Average\"]).astype(np.float))\n",
    "    plt.xlabel(\"\\n Sample Name\")\n",
    "    plt.ylabel(\"Isolate Avg. Cellulase Production (mm)\")\n",
    "\n",
    "    # Producing Statistical analysis based on the previous cell\n",
    "    x1, x2 = 1, 0\n",
    "    y, h, col = float(data['Cellulase Production (radius in mm) Average'].max()) + 0.5, 0.5, 'k'\n",
    "    plt.plot([x1, x1, x2, x2], [y, y+h, y+h, y], lw=1.5, c=col)\n",
    "    plt.text((x1+x2)*.5, y+h, my_star(p_value[1]), ha='center', va='bottom', color=col, fontsize=20)\n",
    "else:\n",
    "    incomplete_question(\"Question 2\")"
   ]
  },
  {
   "cell_type": "code",
   "execution_count": null,
   "metadata": {},
   "outputs": [],
   "source": []
  },
  {
   "cell_type": "code",
   "execution_count": null,
   "metadata": {},
   "outputs": [],
   "source": []
  },
  {
   "cell_type": "code",
   "execution_count": null,
   "metadata": {},
   "outputs": [],
   "source": []
  },
  {
   "cell_type": "code",
   "execution_count": null,
   "metadata": {},
   "outputs": [],
   "source": []
  }
 ],
 "metadata": {
  "kernelspec": {
   "display_name": "Python 3",
   "language": "python",
   "name": "python3"
  },
  "language_info": {
   "codemirror_mode": {
    "name": "ipython",
    "version": 3
   },
   "file_extension": ".py",
   "mimetype": "text/x-python",
   "name": "python",
   "nbconvert_exporter": "python",
   "pygments_lexer": "ipython3",
   "version": "3.6.6"
  }
 },
 "nbformat": 4,
 "nbformat_minor": 1
}
